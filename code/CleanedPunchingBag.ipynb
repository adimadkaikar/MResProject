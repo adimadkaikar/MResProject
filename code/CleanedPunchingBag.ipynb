{
 "cells": [
  {
   "cell_type": "code",
   "execution_count": 1,
   "id": "c5550115-0edb-478f-8a7b-aaa3c18bbd6e",
   "metadata": {
    "tags": []
   },
   "outputs": [],
   "source": [
    "import cobra\n",
    "import GEMS\n",
    "import pandas as pd\n",
    "import numpy as np\n",
    "import os\n",
    "\n",
    "\n",
    "import pickle\n",
    "from etcpy import etc\n",
    "from sklearn.metrics import mean_squared_error as MSE\n",
    "from sklearn.metrics import r2_score\n",
    "\n",
    "import matplotlib.pyplot as plt\n",
    "\n",
    "import requests"
   ]
  },
  {
   "cell_type": "code",
   "execution_count": null,
   "id": "50763051-dce8-4865-a636-9f6c5331e658",
   "metadata": {},
   "outputs": [],
   "source": [
    "data = GEMS.load_exp_data('../data/ExpGrowth.csv')\n",
    "path = '../'\n",
    "params = pd.read_csv(os.path.join(path,'data/model_enzyme_params.csv'),index_col=0)\n",
    "params"
   ]
  },
  {
   "cell_type": "code",
   "execution_count": null,
   "id": "1577d10b-51ce-4920-8f30-e9857e705c82",
   "metadata": {
    "scrolled": true,
    "tags": []
   },
   "outputs": [],
   "source": [
    "df = etc.calculate_thermal_params(params)\n",
    "\n",
    "dfae_batch = data[0].set_index('Ts').rename_axis(None)"
   ]
  },
  {
   "cell_type": "code",
   "execution_count": null,
   "id": "5ef01794-1786-4793-92d8-acada62baabd",
   "metadata": {
    "scrolled": true,
    "tags": []
   },
   "outputs": [],
   "source": [
    "params2 = pd.read_csv(os.path.join(path,'data/model_enzyme_params.csv'),index_col=0)\n",
    "params2=params2['dCpt_std'] = 1000\n",
    "params2"
   ]
  },
  {
   "cell_type": "code",
   "execution_count": 2,
   "id": "3ffcacfa-cacd-4cb6-afaf-bc73dea41bb0",
   "metadata": {
    "tags": []
   },
   "outputs": [
    {
     "name": "stdout",
     "output_type": "stream",
     "text": [
      "Set parameter Username\n",
      "Academic license - for non-commercial use only - expires 2024-08-06\n"
     ]
    }
   ],
   "source": [
    "mae = cobra.io.load_matlab_model('../models/ecModel.mat')"
   ]
  },
  {
   "cell_type": "code",
   "execution_count": 3,
   "id": "3674a30c-2dd2-41ea-be4f-07f767ad760e",
   "metadata": {
    "tags": []
   },
   "outputs": [
    {
     "data": {
      "text/html": [
       "\n",
       "        <table>\n",
       "            <tr>\n",
       "                <td><strong>Reaction identifier</strong></td><td>ATPM</td>\n",
       "            </tr><tr>\n",
       "                <td><strong>Name</strong></td><td>ATP maintenance requirement</td>\n",
       "            </tr><tr>\n",
       "                <td><strong>Memory address</strong></td>\n",
       "                <td>0x7f995f7b0b10</td>\n",
       "            </tr><tr>\n",
       "                <td><strong>Stoichiometry</strong></td>\n",
       "                <td>\n",
       "                    <p style='text-align:right'>atp_c + h2o_c + 0.160442187835805 prot_standard --> adp_c + h_c + pi_c</p>\n",
       "                    <p style='text-align:right'>ATP C10H12N5O13P3 + H2O H2O + 0.160442187835805 prot_standard --> ADP C10H12N5O10P2 + H+ + Phosphate</p>\n",
       "                </td>\n",
       "            </tr><tr>\n",
       "                <td><strong>GPR</strong></td><td></td>\n",
       "            </tr><tr>\n",
       "                <td><strong>Lower bound</strong></td><td>3.15</td>\n",
       "            </tr><tr>\n",
       "                <td><strong>Upper bound</strong></td><td>1000.0</td>\n",
       "            </tr>\n",
       "        </table>\n",
       "        "
      ],
      "text/plain": [
       "<Reaction ATPM at 0x7f995f7b0b10>"
      ]
     },
     "execution_count": 3,
     "metadata": {},
     "output_type": "execute_result"
    }
   ],
   "source": [
    "mae.reactions.ATPM"
   ]
  },
  {
   "cell_type": "code",
   "execution_count": null,
   "id": "cf5f63e8-e2b5-47c7-a392-3c68bf2e698c",
   "metadata": {},
   "outputs": [],
   "source": [
    "mae.medium"
   ]
  },
  {
   "cell_type": "code",
   "execution_count": null,
   "id": "336bdd8c-70f3-44a1-a9b9-1bb3c1c51aa9",
   "metadata": {},
   "outputs": [],
   "source": [
    "model = cobra.io.read_sbml_model('/home/aditi/Documents/Project/GECKO/userData/myEcoli/models/iJO1366.xml')"
   ]
  },
  {
   "cell_type": "code",
   "execution_count": null,
   "id": "47cf788d-2d2c-46f4-b129-eac0b2e0c710",
   "metadata": {},
   "outputs": [],
   "source": [
    "model.medium"
   ]
  },
  {
   "cell_type": "code",
   "execution_count": null,
   "id": "204b6c6a-3b3a-4faf-b3e5-fa986e811a07",
   "metadata": {},
   "outputs": [],
   "source": [
    "reaction = cobra.Reaction('NGAM')\n",
    "reaction.name = 'NGAM'\n",
    "reaction.lower_bound = 3.2 # This is the default\n",
    "reaction.upper_bound = 3.2  # This is the default\n",
    "\n",
    "h_c = mae.metabolites.h_c\n",
    "atp_c = mae.metabolites.atp_c\n",
    "adp_c = mae.metabolites.adp_c\n",
    "h2o_c = mae.metabolites.h2o_c\n",
    "pi_c = mae.metabolites.pi_c\n",
    "\n",
    "reaction.add_metabolites({\n",
    "    atp_c: -1.0,\n",
    "    h2o_c: -1.0,\n",
    "    adp_c: 1.0,\n",
    "    h_c: 1.0,\n",
    "    pi_c: 1.0\n",
    "})"
   ]
  },
  {
   "cell_type": "code",
   "execution_count": null,
   "id": "d2417c6a-cb17-4acd-86ac-84b524ef61b2",
   "metadata": {},
   "outputs": [],
   "source": [
    "mae.add_reactions([reaction])\n",
    "print(len(mae.reactions))"
   ]
  },
  {
   "cell_type": "code",
   "execution_count": null,
   "id": "5fde9812-788d-45e0-8d78-43cf4af4c701",
   "metadata": {},
   "outputs": [],
   "source": [
    "def addNGAMreaction(model):\n",
    "    reaction = cobra.Reaction('NGAM')\n",
    "    reaction.name = 'NGAM'\n",
    "    reaction.lower_bound = 1 # This is the default\n",
    "    reaction.upper_bound = 1  # This is the default\n",
    "\n",
    "    h_c = model.metabolites.h_c\n",
    "    atp_c = model.metabolites.atp_c\n",
    "    adp_c = model.metabolites.adp_c\n",
    "    h2o_c = model.metabolites.h2o_c\n",
    "    pi_c = model.metabolites.pi_c\n",
    "\n",
    "    reaction.add_metabolites({\n",
    "        atp_c: -1.0,\n",
    "        h2o_c: -1.0,\n",
    "        adp_c: 1.0,\n",
    "        h_c: 1.0,\n",
    "        pi_c: 1.0\n",
    "    })\n",
    "    model.add_reactions([reaction])\n",
    "    \n",
    "    print('Successfully added NGAM reaction')\n",
    "    return model"
   ]
  },
  {
   "cell_type": "code",
   "execution_count": null,
   "id": "d08d722a-006c-4056-b8f6-1267a14fea49",
   "metadata": {
    "scrolled": true,
    "tags": []
   },
   "outputs": [],
   "source": [
    "def aerobic(params):\n",
    "    # thermalParams: a dictionary with ids like uniprotid_Topt \n",
    "    df = etc.calculate_thermal_params(params)\n",
    "    #mae = pickle.load(open(os.path.join(path,'models/aerobic.pkl'),'rb'))\n",
    "    mae = cobra.io.load_matlab_model('/home/aditi/Documents/Project/GECKO/userData/myEcoli/models/ecModel.mat')\n",
    "    \n",
    "    mae = addNGAMreaction(mae)\n",
    "    mae.reactions.EX_glc__D_e.lower_bound = -100\n",
    "    mae.reactions.BIOMASS_Ec_iAF1260_core_59p81M.upper_bound = 50\n",
    "    \n",
    "    try: rae, model = etc.simulate_growth(mae,dfae_batch.index+273.15,df=df,sigma=0.5)\n",
    "    except: rae, model = np.zeros(dfae_batch.shape[0])\n",
    "    \n",
    "    rae = [0 if x is None else x for x in rae]\n",
    "    rae = [0 if x<1e-3 else x for x in rae]\n",
    "    #print(rae)\n",
    "    #rexp = GEMS.aerobic_exp_data()['data']\n",
    "    \n",
    "    #print('r2_batch:',r2_score(rexp,rae))\n",
    "    #print('MSE_ae',MSE(rexp,rae))\n",
    "    return {'data':np.array(rae)}"
   ]
  },
  {
   "cell_type": "code",
   "execution_count": null,
   "id": "bc0ee702-5a51-4567-b79e-ff3445904456",
   "metadata": {},
   "outputs": [],
   "source": [
    "def sharpeschoolhigh_1981(temp, r_tref, e, eh, th, tref):\n",
    "    tref = 273.15 + tref\n",
    "    k = 8.62e-05\n",
    "    boltzmann_term = r_tref * np.exp(e/k * (1/tref - 1/(temp + 273.15)))\n",
    "    inactivation_term = 1 / (1 + np.exp(eh/k * (1/(th + 273.15) - 1/(temp + 273.15))))\n",
    "    return boltzmann_term * inactivation_term\n"
   ]
  },
  {
   "cell_type": "code",
   "execution_count": null,
   "id": "09b4e20f-ed40-43af-9fb0-d01494b02281",
   "metadata": {},
   "outputs": [],
   "source": [
    "def getNGAMT(T):\n",
    "    # T is in K, a single value\n",
    "    def NGAM_function(T):\n",
    "        return 8.5*(1-(0.62*np.exp((-0.5/(8.617*10**-5))*((1/(273.15+6)-1/(T))))))\n",
    "        #return 0.740 + 5.893/(1+np.exp(31.920-(T-273.15))) + 6.12e-6*(T-273.15-16.72)**4\n",
    "\n",
    "    NGAM_T = NGAM_function(T)\n",
    "    if NGAM_T < NGAM_function(273.15+36):\n",
    "        return NGAM_function(273.15+36)\n",
    "\n",
    "    return NGAM_T"
   ]
  },
  {
   "cell_type": "code",
   "execution_count": null,
   "id": "1b1639ea-a6e7-405e-957c-d1fe08082fb9",
   "metadata": {},
   "outputs": [],
   "source": [
    "NGAM = []\n",
    "for T in dfae_batch.index+273.15:\n",
    "    #print(T)\n",
    "    NGAM.append(getNGAMT(T))\n",
    "print(NGAM)"
   ]
  },
  {
   "cell_type": "code",
   "execution_count": null,
   "id": "245c2f2a-0999-4f15-a931-43de688fd3ca",
   "metadata": {},
   "outputs": [],
   "source": [
    "plt.figure()\n",
    "plt.plot(dfae_batch.index,NGAM,markersize=5,marker='o')\n",
    "plt.xlabel('Temperature ($^\\circ$C)')\n",
    "#plt.ylabel('Specific growth rate (h$^{-1}$)')\n",
    "plt.ylabel('Maintainence')\n",
    "\n",
    "#plt.legend(fontsize=9,loc='upper left')\n",
    "plt.tight_layout()\n",
    "plt.savefig('../results/possibleNGAM.png')\n",
    "plt.show()"
   ]
  },
  {
   "cell_type": "code",
   "execution_count": null,
   "id": "1ad7bdab-0c33-441e-b96c-d605a389ac37",
   "metadata": {
    "scrolled": true,
    "tags": []
   },
   "outputs": [],
   "source": [
    "rae, model = aerobic(params)"
   ]
  },
  {
   "cell_type": "code",
   "execution_count": null,
   "id": "15180209-140b-4d52-910f-2ef8aaf2c542",
   "metadata": {},
   "outputs": [],
   "source": [
    "plt.figure()\n",
    "plt.scatter(dfae_batch.index,dfae_batch['r'].values,label='Exp',color='k')\n",
    "plt.plot(dfae_batch.index,rae['data'],markersize=5,marker='o',label='Pred')\n",
    "plt.xlabel('Temperature ($^\\circ$C)')\n",
    "#plt.ylabel('Specific growth rate (h$^{-1}$)')\n",
    "plt.ylabel('Aerobic $r_{max}$ (h$^{-1}$)')\n",
    "\n",
    "plt.legend(fontsize=9,loc='upper left')\n",
    "plt.tight_layout()\n",
    "#plt.savefig('../results/sim3.pdf')\n",
    "plt.show()"
   ]
  },
  {
   "cell_type": "code",
   "execution_count": null,
   "id": "5ccbf20a-50f0-4724-b34f-de654da6b68f",
   "metadata": {
    "scrolled": true,
    "tags": []
   },
   "outputs": [],
   "source": [
    "mae.summary()"
   ]
  },
  {
   "cell_type": "code",
   "execution_count": null,
   "id": "cd34ce2e-7e41-4506-82c5-df98c18046c1",
   "metadata": {},
   "outputs": [],
   "source": [
    "mae.reactions.usage_prot_P75804"
   ]
  },
  {
   "cell_type": "code",
   "execution_count": null,
   "id": "9d8afb81-e314-4610-889c-3035d847c7fc",
   "metadata": {},
   "outputs": [],
   "source": [
    "mae.reactions.usage_prot_P75804.get_coefficient('prot_P75804')"
   ]
  },
  {
   "cell_type": "code",
   "execution_count": null,
   "id": "c119abe3-4ee9-4990-8ad9-ecea068f6f9b",
   "metadata": {
    "scrolled": true,
    "tags": []
   },
   "outputs": [],
   "source": [
    "met = mae.metabolites.prot_pool\n",
    "T = 273\n",
    "Tadj=0\n",
    "for rxn in met.reactions:\n",
    "    # this is to ignore reaction 'prot_pool_exchange': --> prot_pool\n",
    "    if len(rxn.metabolites)<2: continue\n",
    "\n",
    "    uniprot_id = rxn.id.split('_')[-1]\n",
    "    print(uniprot_id)\n",
    "    print(rxn.metabolites[met])\n",
    "    cols = ['dHTH', 'dSTS','dCpu','Topt']\n",
    "    [dHTH, dSTS,dCpu,topt]=df.loc[uniprot_id,cols]\n",
    "    fNT = get_fNT(T+Tadj,dHTH,dSTS,dCpu)\n",
    "\n",
    "    if fNT < 1e-32: fNT = 1e-32\n",
    "    new_coeff = rxn.metabolites[met]/fNT\n",
    "    print(fNT)\n",
    "    #etc.change_rxn_coeff(rxn,met,new_coeff)"
   ]
  },
  {
   "cell_type": "code",
   "execution_count": null,
   "id": "fe3e5f58-4533-4b8c-915d-b106a8a6803e",
   "metadata": {},
   "outputs": [],
   "source": [
    "def get_fNT(T,dHTH,dSTS,dCpu):\n",
    "    '''\n",
    "    # Calculate the fraction of enzyme in native state\n",
    "    # dHTH, dSTS are enthalpy and entropy at TH and TS, repspectively\n",
    "    # dCpu is the heat capacity change unpoin unfolding\n",
    "    # T, temeperature, a single value or a numpy array, in K\n",
    "    '''\n",
    "    R = 8.314;\n",
    "    dGu = etc.get_dGu(T,dHTH,dSTS,dCpu);\n",
    "    f = 1/(1+np.exp(-dGu/R/T));\n",
    "    return f"
   ]
  },
  {
   "cell_type": "code",
   "execution_count": null,
   "id": "9b22fbb0-4e04-499e-9ca4-3d010d2b5d16",
   "metadata": {},
   "outputs": [],
   "source": [
    "mae.reactions.usage_prot_P00935.bounds"
   ]
  },
  {
   "cell_type": "code",
   "execution_count": null,
   "id": "d28df9cf-44c6-4fab-af76-87552593ee2d",
   "metadata": {
    "scrolled": true,
    "tags": []
   },
   "outputs": [],
   "source": [
    "mae = cobra.io.load_matlab_model('../models/ecModel.mat')"
   ]
  },
  {
   "cell_type": "code",
   "execution_count": null,
   "id": "a8772e34-e9db-4e12-b5e4-af10e185cba6",
   "metadata": {},
   "outputs": [],
   "source": []
  }
 ],
 "metadata": {
  "kernelspec": {
   "display_name": "Python 3 (ipykernel)",
   "language": "python",
   "name": "python3"
  },
  "language_info": {
   "codemirror_mode": {
    "name": "ipython",
    "version": 3
   },
   "file_extension": ".py",
   "mimetype": "text/x-python",
   "name": "python",
   "nbconvert_exporter": "python",
   "pygments_lexer": "ipython3",
   "version": "3.11.3"
  }
 },
 "nbformat": 4,
 "nbformat_minor": 5
}
