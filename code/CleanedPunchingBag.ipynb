{
 "cells": [
  {
   "cell_type": "code",
   "execution_count": 1,
   "id": "c5550115-0edb-478f-8a7b-aaa3c18bbd6e",
   "metadata": {},
   "outputs": [],
   "source": [
    "import cobra\n",
    "import GEMS\n",
    "import pandas as pd\n",
    "import numpy as np\n",
    "import os\n",
    "\n",
    "\n",
    "import pickle\n",
    "from etcpy import etc\n",
    "from sklearn.metrics import mean_squared_error as MSE\n",
    "from sklearn.metrics import r2_score\n",
    "\n",
    "import matplotlib.pyplot as plt\n",
    "\n",
    "import requests"
   ]
  },
  {
   "cell_type": "code",
   "execution_count": 2,
   "id": "1577d10b-51ce-4920-8f30-e9857e705c82",
   "metadata": {},
   "outputs": [],
   "source": [
    "data = GEMS.load_exp_data('../data/ExpGrowth.csv')\n",
    "path = '../'\n",
    "params = pd.read_csv(os.path.join(path,'data/model_enzyme_params.csv'),index_col=0)\n",
    "df = etc.calculate_thermal_params(params)\n",
    "\n",
    "dfae_batch = data[0].set_index('Ts').rename_axis(None)"
   ]
  },
  {
   "cell_type": "code",
   "execution_count": null,
   "id": "5ef01794-1786-4793-92d8-acada62baabd",
   "metadata": {
    "scrolled": true,
    "tags": []
   },
   "outputs": [],
   "source": [
    "params2 = pd.read_csv(os.path.join(path,'data/model_enzyme_params.csv'),index_col=0)\n",
    "params2=params2['dCpt_std'] = 1000\n",
    "params2"
   ]
  },
  {
   "cell_type": "code",
   "execution_count": 3,
   "id": "3ffcacfa-cacd-4cb6-afaf-bc73dea41bb0",
   "metadata": {},
   "outputs": [
    {
     "name": "stdout",
     "output_type": "stream",
     "text": [
      "Set parameter Username\n",
      "Academic license - for non-commercial use only - expires 2024-05-29\n"
     ]
    }
   ],
   "source": [
    "mae = cobra.io.load_matlab_model('/home/aditi/Documents/Project/GECKO/userData/myEcoli/models/ecModel.mat')"
   ]
  },
  {
   "cell_type": "code",
   "execution_count": null,
   "id": "204b6c6a-3b3a-4faf-b3e5-fa986e811a07",
   "metadata": {},
   "outputs": [],
   "source": [
    "reaction = cobra.Reaction('NGAM')\n",
    "reaction.name = 'NGAM'\n",
    "reaction.lower_bound = 3.2 # This is the default\n",
    "reaction.upper_bound = 3.2  # This is the default\n",
    "\n",
    "h_c = mae.metabolites.h_c\n",
    "atp_c = mae.metabolites.atp_c\n",
    "adp_c = mae.metabolites.adp_c\n",
    "h2o_c = mae.metabolites.h2o_c\n",
    "pi_c = mae.metabolites.pi_c\n",
    "\n",
    "reaction.add_metabolites({\n",
    "    atp_c: -1.0,\n",
    "    h2o_c: -1.0,\n",
    "    adp_c: 1.0,\n",
    "    h_c: 1.0,\n",
    "    pi_c: 1.0\n",
    "})"
   ]
  },
  {
   "cell_type": "code",
   "execution_count": null,
   "id": "d2417c6a-cb17-4acd-86ac-84b524ef61b2",
   "metadata": {},
   "outputs": [],
   "source": [
    "mae.add_reactions([reaction])\n",
    "print(len(mae.reactions))"
   ]
  },
  {
   "cell_type": "code",
   "execution_count": 12,
   "id": "5fde9812-788d-45e0-8d78-43cf4af4c701",
   "metadata": {},
   "outputs": [],
   "source": [
    "def addNGAMreaction(model):\n",
    "    reaction = cobra.Reaction('NGAM')\n",
    "    reaction.name = 'NGAM'\n",
    "    reaction.lower_bound = 1 # This is the default\n",
    "    reaction.upper_bound = 1  # This is the default\n",
    "\n",
    "    h_c = mae.metabolites.h_c\n",
    "    atp_c = mae.metabolites.atp_c\n",
    "    adp_c = mae.metabolites.adp_c\n",
    "    h2o_c = mae.metabolites.h2o_c\n",
    "    pi_c = mae.metabolites.pi_c\n",
    "\n",
    "    reaction.add_metabolites({\n",
    "        atp_c: -1.0,\n",
    "        h2o_c: -1.0,\n",
    "        adp_c: 1.0,\n",
    "        h_c: 1.0,\n",
    "        pi_c: 1.0\n",
    "    })\n",
    "    model.add_reactions([reaction])\n",
    "    \n",
    "    print('Successfully added NGAM reaction')\n",
    "    return model"
   ]
  },
  {
   "cell_type": "code",
   "execution_count": 13,
   "id": "d08d722a-006c-4056-b8f6-1267a14fea49",
   "metadata": {
    "scrolled": true,
    "tags": []
   },
   "outputs": [],
   "source": [
    "def aerobic(params):\n",
    "    # thermalParams: a dictionary with ids like uniprotid_Topt \n",
    "    df = etc.calculate_thermal_params(params)\n",
    "    #mae = pickle.load(open(os.path.join(path,'models/aerobic.pkl'),'rb'))\n",
    "    mae = cobra.io.load_matlab_model('/home/aditi/Documents/Project/GECKO/userData/myEcoli/models/ecModel.mat')\n",
    "    \n",
    "    mae = addNGAMreaction(mae)\n",
    "    mae.reactions.EX_glc__D_e.lower_bound = -100\n",
    "    mae.reactions.BIOMASS_Ec_iAF1260_core_59p81M.upper_bound = 50\n",
    "    \n",
    "    try: rae = etc.simulate_growth(mae,dfae_batch.index+273.15,df=df,sigma=0.5)\n",
    "    except: rae = np.zeros(dfae_batch.shape[0])\n",
    "    \n",
    "    rae = [0 if x is None else x for x in rae]\n",
    "    rae = [0 if x<1e-3 else x for x in rae]\n",
    "    print(rae)\n",
    "    #rexp = GEMS.aerobic_exp_data()['data']\n",
    "    \n",
    "    #print('r2_batch:',r2_score(rexp,rae))\n",
    "    #print('MSE_ae',MSE(rexp,rae))\n",
    "    return {'data':np.array(rae)}"
   ]
  },
  {
   "cell_type": "code",
   "execution_count": 6,
   "id": "09b4e20f-ed40-43af-9fb0-d01494b02281",
   "metadata": {},
   "outputs": [],
   "source": [
    "def getNGAMT(T):\n",
    "    # T is in K, a single value\n",
    "    def NGAM_function(T):\n",
    "        return 8.5*(1-0.62*np.exp((0.5/(8.617*10**-5))*(1/(T)-1/(273.15+25))))\n",
    "        #return 0.740 + 5.893/(1+np.exp(31.920-(T-273.15))) + 6.12e-6*(T-273.15-16.72)**4\n",
    "\n",
    "    NGAM_T = NGAM_function(T)\n",
    "\n",
    "    return NGAM_T"
   ]
  },
  {
   "cell_type": "code",
   "execution_count": 7,
   "id": "1b1639ea-a6e7-405e-957c-d1fe08082fb9",
   "metadata": {},
   "outputs": [
    {
     "name": "stdout",
     "output_type": "stream",
     "text": [
      "[1.2309567255284373, 2.4903816079832546, 3.666948749964016, 4.228097946953468, 4.675583853845237, 5.047267123847456, 5.44939156263788, 5.950125048399887, 6.237403245621997, 6.449817187489966, 6.681009354243395, 6.9000236503978725, 6.974987953458825, 7.088333029723301, 7.226932905456837]\n"
     ]
    }
   ],
   "source": [
    "NGAM = []\n",
    "for T in dfae_batch.index+273.15:\n",
    "    #print(T)\n",
    "    NGAM.append(getNGAMT(T))\n",
    "print(NGAM)"
   ]
  },
  {
   "cell_type": "code",
   "execution_count": 8,
   "id": "245c2f2a-0999-4f15-a931-43de688fd3ca",
   "metadata": {},
   "outputs": [
    {
     "data": {
      "image/png": "[encoded data removed]",
      "text/plain": [
       "<Figure size 432x288 with 1 Axes>"
      ]
     },
     "metadata": {
      "needs_background": "light"
     },
     "output_type": "display_data"
    }
   ],
   "source": [
    "plt.figure()\n",
    "plt.plot(dfae_batch.index,NGAM,markersize=5,marker='o')\n",
    "plt.xlabel('Temperature ($^\\circ$C)')\n",
    "#plt.ylabel('Specific growth rate (h$^{-1}$)')\n",
    "plt.ylabel('Maintainence')\n",
    "\n",
    "#plt.legend(fontsize=9,loc='upper left')\n",
    "plt.tight_layout()\n",
    "plt.savefig('../results/possibleNGAM.pdf')\n",
    "plt.show()"
   ]
  },
  {
   "cell_type": "code",
   "execution_count": 14,
   "id": "1ad7bdab-0c33-441e-b96c-d605a389ac37",
   "metadata": {
    "scrolled": true,
    "tags": []
   },
   "outputs": [
    {
     "name": "stdout",
     "output_type": "stream",
     "text": [
      "Successfully added NGAM reaction\n",
      "NGAM is: 1.595526102849101\n"
     ]
    },
    {
     "name": "stderr",
     "output_type": "stream",
     "text": [
      "/home/aditi/.local/lib/python3.10/site-packages/cobra/util/solver.py:554: UserWarning: Solver status is 'infeasible'.\n",
      "  warn(f\"Solver status is '{status}'.\", UserWarning)\n"
     ]
    },
    {
     "name": "stdout",
     "output_type": "stream",
     "text": [
      "Failed to solve the problem\n",
      "20.153299075508016 0\n",
      "NGAM is: 2.6153438613406976\n",
      "flux             9.576139\n",
      "reaction      EX_glc__D_e\n",
      "metabolite       glc__D_e\n",
      "Name: EX_glc__D_e, dtype: object\n",
      "23.00151111308503 0.23131906486899792\n",
      "NGAM is: 3.59955324483803\n",
      "flux            12.647601\n",
      "reaction      EX_glc__D_e\n",
      "metabolite       glc__D_e\n",
      "Name: EX_glc__D_e, dtype: object\n",
      "26.331896319367047 0.3741939368621062\n",
      "NGAM is: 4.082143764019695\n",
      "flux             8.826629\n",
      "reaction      EX_glc__D_e\n",
      "metabolite       glc__D_e\n",
      "Name: EX_glc__D_e, dtype: object\n",
      "28.251819864188008 0.45808228976554294\n",
      "NGAM is: 4.474272089486991\n",
      "flux             8.796249\n",
      "reaction      EX_glc__D_e\n",
      "metabolite       glc__D_e\n",
      "Name: EX_glc__D_e, dtype: object\n",
      "29.99421176442104 0.5282923046694492\n",
      "NGAM is: 4.805577150080285\n",
      "flux             9.428482\n",
      "reaction      EX_glc__D_e\n",
      "metabolite       glc__D_e\n",
      "Name: EX_glc__D_e, dtype: object\n",
      "31.62212188446705 0.5836788108363992\n",
      "NGAM is: 5.170535943481316\n",
      "flux             8.096229\n",
      "reaction      EX_glc__D_e\n",
      "metabolite       glc__D_e\n",
      "Name: EX_glc__D_e, dtype: object\n",
      "33.61728633658504 0.5612812270987586\n",
      "NGAM is: 5.636049153868655\n",
      "flux             6.655453\n",
      "reaction      EX_glc__D_e\n",
      "metabolite       glc__D_e\n",
      "Name: EX_glc__D_e, dtype: object\n",
      "36.55299482796005 0.43386957636938356\n",
      "NGAM is: 5.909642460183592\n",
      "flux             4.794826\n",
      "reaction      EX_glc__D_e\n",
      "metabolite       glc__D_e\n",
      "Name: EX_glc__D_e, dtype: object\n",
      "38.54155004207803 0.3404973261605478\n",
      "NGAM is: 6.1155101801253355\n",
      "flux             4.064823\n",
      "reaction      EX_glc__D_e\n",
      "metabolite       glc__D_e\n",
      "Name: EX_glc__D_e, dtype: object\n",
      "40.20094365636703 0.2723474121757803\n",
      "NGAM is: 6.343510789405495\n",
      "flux             3.298448\n",
      "reaction      EX_glc__D_e\n",
      "metabolite       glc__D_e\n",
      "Name: EX_glc__D_e, dtype: object\n",
      "42.23876395989504 0.20178434583330654\n",
      "NGAM is: 6.563822845630272\n",
      "flux             3.022384\n",
      "reaction      EX_glc__D_e\n",
      "metabolite       glc__D_e\n",
      "Name: EX_glc__D_e, dtype: object\n",
      "44.453491097574044 0.14118640892114503\n",
      "NGAM is: 6.640315596289674\n",
      "flux             3.004309\n",
      "reaction      EX_glc__D_e\n",
      "metabolite       glc__D_e\n",
      "Name: EX_glc__D_e, dtype: object\n",
      "45.28989924561603 0.12235704921880612\n",
      "NGAM is: 6.757130815507306\n",
      "flux             3.071537\n",
      "reaction      EX_glc__D_e\n",
      "metabolite       glc__D_e\n",
      "Name: EX_glc__D_e, dtype: object\n",
      "46.64533098816804 0.09611452874461507\n",
      "NGAM is: 6.902044118808786\n",
      "flux             2.830913\n",
      "reaction      EX_glc__D_e\n",
      "metabolite       glc__D_e\n",
      "Name: EX_glc__D_e, dtype: object\n",
      "48.47717620988101 0.068105160970634\n",
      "[0, 0.23131906486899792, 0.3741939368621062, 0.45808228976554294, 0.5282923046694492, 0.5836788108363992, 0.5612812270987586, 0.43386957636938356, 0.3404973261605478, 0.2723474121757803, 0.20178434583330654, 0.14118640892114503, 0.12235704921880612, 0.09611452874461507, 0.068105160970634]\n"
     ]
    }
   ],
   "source": [
    "rae = aerobic(params)"
   ]
  },
  {
   "cell_type": "code",
   "execution_count": 15,
   "id": "15180209-140b-4d52-910f-2ef8aaf2c542",
   "metadata": {},
   "outputs": [
    {
     "data": {
      "image/png": "[encoded data removed]",
      "text/plain": [
       "<Figure size 432x288 with 1 Axes>"
      ]
     },
     "metadata": {
      "needs_background": "light"
     },
     "output_type": "display_data"
    }
   ],
   "source": [
    "plt.figure()\n",
    "plt.scatter(dfae_batch.index,dfae_batch['r'].values,label='Exp',color='k')\n",
    "plt.plot(dfae_batch.index,rae['data'],markersize=5,marker='o',label='Pred')\n",
    "plt.xlabel('Temperature ($^\\circ$C)')\n",
    "#plt.ylabel('Specific growth rate (h$^{-1}$)')\n",
    "plt.ylabel('Aerobic $r_{max}$ (h$^{-1}$)')\n",
    "\n",
    "plt.legend(fontsize=9,loc='upper left')\n",
    "plt.tight_layout()\n",
    "plt.savefig('../results/sim1.pdf')\n",
    "plt.show()"
   ]
  },
  {
   "cell_type": "code",
   "execution_count": 10,
   "id": "5ccbf20a-50f0-4724-b34f-de654da6b68f",
   "metadata": {
    "scrolled": true,
    "tags": []
   },
   "outputs": [
    {
     "name": "stdout",
     "output_type": "stream",
     "text": [
      "Successfully added NGAM reaction\n"
     ]
    }
   ],
   "source": [
    "mae = addNGAMreaction(mae)\n",
    "mae.reactions.EX_glc__D_e.lower_bound = -100\n",
    "mae.reactions.BIOMASS_Ec_iAF1260_core_59p81M.upper_bound = 50"
   ]
  }
 ],
 "metadata": {
  "kernelspec": {
   "display_name": "Python 3 (ipykernel)",
   "language": "python",
   "name": "python3"
  },
  "language_info": {
   "codemirror_mode": {
    "name": "ipython",
    "version": 3
   },
   "file_extension": ".py",
   "mimetype": "text/x-python",
   "name": "python",
   "nbconvert_exporter": "python",
   "pygments_lexer": "ipython3",
   "version": "3.10.6"
  }
 },
 "nbformat": 4,
 "nbformat_minor": 5
}
