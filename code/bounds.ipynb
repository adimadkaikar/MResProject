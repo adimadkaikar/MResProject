{
 "cells": [
  {
   "cell_type": "code",
   "execution_count": 2,
   "id": "a08be9eb-989c-4b6b-8775-8d3b045f3d74",
   "metadata": {},
   "outputs": [],
   "source": [
    "import cobra\n",
    "import GEMS\n",
    "import pandas as pd\n",
    "import numpy as np\n",
    "import os\n",
    "\n",
    "\n",
    "import pickle\n",
    "from etcpy import etc\n",
    "from sklearn.metrics import mean_squared_error as MSE\n",
    "from sklearn.metrics import r2_score\n",
    "\n",
    "import matplotlib.pyplot as plt"
   ]
  },
  {
   "cell_type": "code",
   "execution_count": 3,
   "id": "0af95841-d35c-4dd8-b3c0-29c0720cdedb",
   "metadata": {},
   "outputs": [],
   "source": [
    "data = GEMS.load_exp_data('../data/ExpGrowth.csv')\n",
    "path = '../'\n",
    "params = pd.read_csv(os.path.join(path,'data/model_enzyme_params.csv'),index_col=0)\n",
    "df = etc.calculate_thermal_params(params)\n",
    "\n",
    "dfae_batch = data[4].set_index('Ts').rename_axis(None)[28:45]"
   ]
  },
  {
   "cell_type": "code",
   "execution_count": 8,
   "id": "6c91cfc7-d391-4f03-a610-964a53d7ebf1",
   "metadata": {},
   "outputs": [],
   "source": [
    "def aerobic(params):\n",
    "    # thermalParams: a dictionary with ids like uniprotid_Topt \n",
    "    df = etc.calculate_thermal_params(params)\n",
    "    #mae = pickle.load(open(os.path.join(path,'models/aerobic.pkl'),'rb'))\n",
    "    mae = cobra.io.load_matlab_model('../models/ecModel.mat')\n",
    "    \n",
    "    #mae = GEMS.addNGAMreaction(mae)\n",
    "    mae.reactions.EX_glc__D_e.lower_bound = -100\n",
    "    mae.reactions.BIOMASS_Ec_iJO1366_core_53p95M.upper_bound = 50\n",
    "    print(mae.reactions.usage_prot_P75804.bounds)\n",
    "    \n",
    "#     try: \n",
    "#         rae, gae, oae = etc.simulate_growth(mae,dfae_batch.index+273.15,df=df,sigma=0.5)\n",
    "#     except: \n",
    "#         rae = np.zeros(dfae_batch.shape[0])\n",
    "#         model = None\n",
    "    \n",
    "#     rae = [0 if x is None else x for x in rae]\n",
    "#     rae = [0 if x<1e-3 else x for x in rae]\n",
    "#     #print(rae)\n",
    "#     #rexp = GEMS.aerobic_exp_data()['data']\n",
    "    \n",
    "#     #print('r2_batch:',r2_score(rexp,rae))\n",
    "#     #print('MSE_ae',MSE(rexp,rae))\n",
    "#     return {'growth':np.array(rae), 'glucose':np.array(gae), 'oxygen': np.array(oae)}"
   ]
  },
  {
   "cell_type": "code",
   "execution_count": 9,
   "id": "2a58675c-d9ba-4b86-8f8d-b77730587fd1",
   "metadata": {},
   "outputs": [],
   "source": [
    "mae = cobra.io.load_matlab_model('../models/ecModel.mat')"
   ]
  },
  {
   "cell_type": "code",
   "execution_count": 24,
   "id": "4fc6aca1-f7ee-4ec4-975c-304942f1f5b2",
   "metadata": {},
   "outputs": [
    {
     "data": {
      "text/html": [
       "\n",
       "        <table>\n",
       "            <tr>\n",
       "                <td><strong>Metabolite identifier</strong></td><td>prot_Q93K97</td>\n",
       "            </tr><tr>\n",
       "                <td><strong>Name</strong></td><td>prot_Q93K97</td>\n",
       "            </tr><tr>\n",
       "                <td><strong>Memory address</strong></td>\n",
       "                <td>0x7fb31ce7ae00</td>\n",
       "            </tr><tr>\n",
       "                <td><strong>Formula</strong></td><td>None</td>\n",
       "            </tr><tr>\n",
       "                <td><strong>Compartment</strong></td><td>c</td>\n",
       "            </tr><tr>\n",
       "                <td><strong>In 2 reaction(s)</strong></td><td>\n",
       "                    ADPRDP_EXP_2, usage_prot_Q93K97\n",
       "                    </td>\n",
       "            </tr>\n",
       "        </table>"
      ],
      "text/plain": [
       "<Metabolite prot_Q93K97 at 0x7fb31ce7ae00>"
      ]
     },
     "execution_count": 24,
     "metadata": {},
     "output_type": "execute_result"
    }
   ],
   "source": [
    "mae.metabolites.prot_Q93K97"
   ]
  },
  {
   "cell_type": "code",
   "execution_count": 26,
   "id": "819ab196-8d9e-432a-a405-cba97cb04785",
   "metadata": {},
   "outputs": [
    {
     "data": {
      "text/plain": [
       "-0.0561894586894587"
      ]
     },
     "execution_count": 26,
     "metadata": {},
     "output_type": "execute_result"
    }
   ],
   "source": [
    "mae.reactions.ADPRDP_EXP_2.get_coefficient('prot_Q93K97')"
   ]
  },
  {
   "cell_type": "code",
   "execution_count": 28,
   "id": "cbe483b1-4eae-43db-a56c-ca095514d2bf",
   "metadata": {},
   "outputs": [
    {
     "data": {
      "text/html": [
       "\n",
       "        <table>\n",
       "            <tr>\n",
       "                <td><strong>Reaction identifier</strong></td><td>usage_prot_standard</td>\n",
       "            </tr><tr>\n",
       "                <td><strong>Name</strong></td><td>usage_prot_standard</td>\n",
       "            </tr><tr>\n",
       "                <td><strong>Memory address</strong></td>\n",
       "                <td>0x7fb31c5fe620</td>\n",
       "            </tr><tr>\n",
       "                <td><strong>Stoichiometry</strong></td>\n",
       "                <td>\n",
       "                    <p style='text-align:right'>prot_standard <-- prot_pool</p>\n",
       "                    <p style='text-align:right'>prot_standard <-- prot_pool</p>\n",
       "                </td>\n",
       "            </tr><tr>\n",
       "                <td><strong>GPR</strong></td><td>standard</td>\n",
       "            </tr><tr>\n",
       "                <td><strong>Lower bound</strong></td><td>-1000.0</td>\n",
       "            </tr><tr>\n",
       "                <td><strong>Upper bound</strong></td><td>0.0</td>\n",
       "            </tr>\n",
       "        </table>\n",
       "        "
      ],
      "text/plain": [
       "<Reaction usage_prot_standard at 0x7fb31c5fe620>"
      ]
     },
     "execution_count": 28,
     "metadata": {},
     "output_type": "execute_result"
    }
   ],
   "source": [
    "mae.reactions.usage_prot_standard"
   ]
  }
 ],
 "metadata": {
  "kernelspec": {
   "display_name": "Python 3 (ipykernel)",
   "language": "python",
   "name": "python3"
  },
  "language_info": {
   "codemirror_mode": {
    "name": "ipython",
    "version": 3
   },
   "file_extension": ".py",
   "mimetype": "text/x-python",
   "name": "python",
   "nbconvert_exporter": "python",
   "pygments_lexer": "ipython3",
   "version": "3.10.6"
  }
 },
 "nbformat": 4,
 "nbformat_minor": 5
}
