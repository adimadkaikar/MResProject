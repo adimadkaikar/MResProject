{
 "cells": [
  {
   "cell_type": "code",
   "execution_count": 1,
   "id": "03f8694c-dbc7-429d-ae22-f7ffd6d87766",
   "metadata": {},
   "outputs": [],
   "source": [
    "import cobra\n",
    "import GEMS\n",
    "import pandas as pd\n",
    "import numpy as np\n",
    "import os\n",
    "\n",
    "\n",
    "import pickle\n",
    "from etcpy import etc\n",
    "from sklearn.metrics import mean_squared_error as MSE\n",
    "from sklearn.metrics import r2_score\n",
    "\n",
    "import matplotlib.pyplot as plt"
   ]
  },
  {
   "cell_type": "code",
   "execution_count": 2,
   "id": "45b654f3-c30c-401b-8e09-a12321ddd196",
   "metadata": {
    "scrolled": true,
    "tags": []
   },
   "outputs": [
    {
     "data": {
      "text/html": [
       "<div>\n",
       "<style scoped>\n",
       "    .dataframe tbody tr th:only-of-type {\n",
       "        vertical-align: middle;\n",
       "    }\n",
       "\n",
       "    .dataframe tbody tr th {\n",
       "        vertical-align: top;\n",
       "    }\n",
       "\n",
       "    .dataframe thead th {\n",
       "        text-align: right;\n",
       "    }\n",
       "</style>\n",
       "<table border=\"1\" class=\"dataframe\">\n",
       "  <thead>\n",
       "    <tr style=\"text-align: right;\">\n",
       "      <th></th>\n",
       "      <th>r</th>\n",
       "    </tr>\n",
       "  </thead>\n",
       "  <tbody>\n",
       "    <tr>\n",
       "      <th>9.2056</th>\n",
       "      <td>0.039240</td>\n",
       "    </tr>\n",
       "    <tr>\n",
       "      <th>10.9530</th>\n",
       "      <td>0.065160</td>\n",
       "    </tr>\n",
       "    <tr>\n",
       "      <th>12.4143</th>\n",
       "      <td>0.101160</td>\n",
       "    </tr>\n",
       "    <tr>\n",
       "      <th>13.4838</th>\n",
       "      <td>0.122760</td>\n",
       "    </tr>\n",
       "    <tr>\n",
       "      <th>14.8738</th>\n",
       "      <td>0.158400</td>\n",
       "    </tr>\n",
       "    <tr>\n",
       "      <th>15.9057</th>\n",
       "      <td>0.214200</td>\n",
       "    </tr>\n",
       "    <tr>\n",
       "      <th>17.0121</th>\n",
       "      <td>0.214560</td>\n",
       "    </tr>\n",
       "    <tr>\n",
       "      <th>18.1174</th>\n",
       "      <td>0.234360</td>\n",
       "    </tr>\n",
       "    <tr>\n",
       "      <th>19.2561</th>\n",
       "      <td>0.295920</td>\n",
       "    </tr>\n",
       "    <tr>\n",
       "      <th>20.2171</th>\n",
       "      <td>0.344880</td>\n",
       "    </tr>\n",
       "    <tr>\n",
       "      <th>21.1433</th>\n",
       "      <td>0.377676</td>\n",
       "    </tr>\n",
       "    <tr>\n",
       "      <th>22.3534</th>\n",
       "      <td>0.439236</td>\n",
       "    </tr>\n",
       "    <tr>\n",
       "      <th>24.4190</th>\n",
       "      <td>0.519444</td>\n",
       "    </tr>\n",
       "    <tr>\n",
       "      <th>25.7373</th>\n",
       "      <td>0.561024</td>\n",
       "    </tr>\n",
       "    <tr>\n",
       "      <th>26.6971</th>\n",
       "      <td>0.632556</td>\n",
       "    </tr>\n",
       "    <tr>\n",
       "      <th>28.0506</th>\n",
       "      <td>0.682704</td>\n",
       "    </tr>\n",
       "    <tr>\n",
       "      <th>29.0838</th>\n",
       "      <td>0.715644</td>\n",
       "    </tr>\n",
       "    <tr>\n",
       "      <th>29.9724</th>\n",
       "      <td>0.782892</td>\n",
       "    </tr>\n",
       "    <tr>\n",
       "      <th>31.4332</th>\n",
       "      <td>0.828756</td>\n",
       "    </tr>\n",
       "    <tr>\n",
       "      <th>32.0369</th>\n",
       "      <td>0.884556</td>\n",
       "    </tr>\n",
       "    <tr>\n",
       "      <th>34.5680</th>\n",
       "      <td>0.937656</td>\n",
       "    </tr>\n",
       "    <tr>\n",
       "      <th>35.7424</th>\n",
       "      <td>1.000620</td>\n",
       "    </tr>\n",
       "    <tr>\n",
       "      <th>38.0247</th>\n",
       "      <td>1.032264</td>\n",
       "    </tr>\n",
       "    <tr>\n",
       "      <th>40.0290</th>\n",
       "      <td>0.926676</td>\n",
       "    </tr>\n",
       "    <tr>\n",
       "      <th>41.8482</th>\n",
       "      <td>0.276480</td>\n",
       "    </tr>\n",
       "  </tbody>\n",
       "</table>\n",
       "</div>"
      ],
      "text/plain": [
       "                r\n",
       "9.2056   0.039240\n",
       "10.9530  0.065160\n",
       "12.4143  0.101160\n",
       "13.4838  0.122760\n",
       "14.8738  0.158400\n",
       "15.9057  0.214200\n",
       "17.0121  0.214560\n",
       "18.1174  0.234360\n",
       "19.2561  0.295920\n",
       "20.2171  0.344880\n",
       "21.1433  0.377676\n",
       "22.3534  0.439236\n",
       "24.4190  0.519444\n",
       "25.7373  0.561024\n",
       "26.6971  0.632556\n",
       "28.0506  0.682704\n",
       "29.0838  0.715644\n",
       "29.9724  0.782892\n",
       "31.4332  0.828756\n",
       "32.0369  0.884556\n",
       "34.5680  0.937656\n",
       "35.7424  1.000620\n",
       "38.0247  1.032264\n",
       "40.0290  0.926676\n",
       "41.8482  0.276480"
      ]
     },
     "execution_count": 2,
     "metadata": {},
     "output_type": "execute_result"
    }
   ],
   "source": [
    "data = GEMS.load_exp_data('../data/ExpGrowth.csv')\n",
    "path = '../'\n",
    "params = pd.read_csv(os.path.join(path,'data/model_enzyme_params.csv'),index_col=0)\n",
    "df = etc.calculate_thermal_params(params)\n",
    "\n",
    "dfae_batch = data[4].set_index('Ts').rename_axis(None)\n",
    "dfae_batch"
   ]
  },
  {
   "cell_type": "code",
   "execution_count": 10,
   "id": "a4d3653f-c07d-4cb6-a7dc-44808709a81a",
   "metadata": {},
   "outputs": [],
   "source": [
    "def aerobic(params):\n",
    "    params = etc.sample_data_uncertainty_with_constraint(params, ['Topt', 'dCpt'])\n",
    "    # thermalParams: a dictionary with ids like uniprotid_Topt \n",
    "    df = etc.calculate_thermal_params(params)\n",
    "    #mae = pickle.load(open(os.path.join(path,'models/aerobic.pkl'),'rb'))\n",
    "    mae = cobra.io.load_matlab_model('../models/ecModel.mat')\n",
    "    \n",
    "    #mae = GEMS.addNGAMreaction(mae)\n",
    "    mae.reactions.EX_glc__D_e.lower_bound = -100\n",
    "    mae.reactions.BIOMASS_Ec_iJO1366_core_53p95M.upper_bound = 50\n",
    "    \n",
    "    try: \n",
    "        rae, gae, oae, model = etc.simulate_growth(mae,dfae_batch.index+273.15,df=df,sigma=0.5)\n",
    "    except: \n",
    "        rae = np.zeros(dfae_batch.shape[0])\n",
    "        model = None\n",
    "    \n",
    "    rae = [0 if x is None else x for x in rae]\n",
    "    rae = [0 if x<1e-3 else x for x in rae]\n",
    "    #print(rae)\n",
    "    #rexp = GEMS.aerobic_exp_data()['data']\n",
    "    \n",
    "    #print('r2_batch:',r2_score(rexp,rae))\n",
    "    #print('MSE_ae',MSE(rexp,rae))\n",
    "    return {'growth':np.array(rae), 'glucose':np.array(gae), 'oxygen': np.array(oae)}"
   ]
  },
  {
   "cell_type": "code",
   "execution_count": 4,
   "id": "9281f1aa-a580-4cf5-b3e5-05da0980949f",
   "metadata": {},
   "outputs": [],
   "source": [
    "def simulate_with_sampling(OriParams):\n",
    "    \n",
    "    # Load the ecGEM\n",
    "    mae = cobra.io.load_matlab_model('../models/ecModel.mat')\n",
    "    mae.reactions.EX_glc__D_e.lower_bound = -100\n",
    "    mae.reactions.BIOMASS_Ec_iJO1366_core_53p95M.upper_bound = 50\n",
    "    \n",
    "    \n",
    "        \n",
    "    try: \n",
    "        rae, gae, oae = etc.simulate_growth_with_resampling(mae,dfae_batch,oriParams=OriParams,sigma=0.5)\n",
    "    except: \n",
    "        rae = np.zeros(dfae_batch.shape[0])\n",
    "\n",
    "    rae = [0 if x is None else x for x in rae]\n",
    "    rae = [0 if x<1e-3 else x for x in rae]\n",
    "        \n",
    "    print(rae)\n",
    "    print(abs(rae - dfae_batch['r'].values))\n",
    "    \n",
    "    try: dictToReturn = {'growth':np.array(rae), 'glucose':np.array(gae), 'oxygen': np.array(oae)}\n",
    "    except: dictToReturn = None\n",
    "    return dictToReturn"
   ]
  },
  {
   "cell_type": "code",
   "execution_count": 5,
   "id": "02d0965c-45a8-43f1-b104-e443d6f76dc5",
   "metadata": {
    "scrolled": true,
    "tags": []
   },
   "outputs": [
    {
     "name": "stdout",
     "output_type": "stream",
     "text": [
      "Set parameter Username\n",
      "Academic license - for non-commercial use only - expires 2024-05-29\n",
      "[0, 0, 0, 0, 0, 0, 0, 0, 0, 0, 0, 0, 0, 0, 0, 0, 0, 0, 0, 0, 0, 0, 0, 0, 0]\n",
      "[0.03924  0.06516  0.10116  0.12276  0.1584   0.2142   0.21456  0.23436\n",
      " 0.29592  0.34488  0.377676 0.439236 0.519444 0.561024 0.632556 0.682704\n",
      " 0.715644 0.782892 0.828756 0.884556 0.937656 1.00062  1.032264 0.926676\n",
      " 0.27648 ]\n"
     ]
    }
   ],
   "source": [
    "rae = simulate_with_sampling(params)"
   ]
  },
  {
   "cell_type": "code",
   "execution_count": 6,
   "id": "be72a491-1027-4d02-af41-d4199f8ff474",
   "metadata": {},
   "outputs": [],
   "source": [
    "rae"
   ]
  },
  {
   "cell_type": "code",
   "execution_count": 7,
   "id": "4281b786-a4c8-420e-85c5-72d6ac3c46d3",
   "metadata": {},
   "outputs": [
    {
     "ename": "TypeError",
     "evalue": "'NoneType' object is not subscriptable",
     "output_type": "error",
     "traceback": [
      "\u001b[0;31m---------------------------------------------------------------------------\u001b[0m",
      "\u001b[0;31mTypeError\u001b[0m                                 Traceback (most recent call last)",
      "\u001b[0;32m/tmp/ipykernel_8477/6686612.py\u001b[0m in \u001b[0;36m<module>\u001b[0;34m\u001b[0m\n\u001b[1;32m      1\u001b[0m \u001b[0mplt\u001b[0m\u001b[0;34m.\u001b[0m\u001b[0mfigure\u001b[0m\u001b[0;34m(\u001b[0m\u001b[0mfigsize\u001b[0m\u001b[0;34m=\u001b[0m\u001b[0;34m(\u001b[0m\u001b[0;36m9\u001b[0m\u001b[0;34m,\u001b[0m \u001b[0;36m6\u001b[0m\u001b[0;34m)\u001b[0m\u001b[0;34m)\u001b[0m\u001b[0;34m\u001b[0m\u001b[0;34m\u001b[0m\u001b[0m\n\u001b[1;32m      2\u001b[0m \u001b[0mplt\u001b[0m\u001b[0;34m.\u001b[0m\u001b[0mscatter\u001b[0m\u001b[0;34m(\u001b[0m\u001b[0mdfae_batch\u001b[0m\u001b[0;34m.\u001b[0m\u001b[0mindex\u001b[0m\u001b[0;34m,\u001b[0m\u001b[0mdfae_batch\u001b[0m\u001b[0;34m[\u001b[0m\u001b[0;34m'r'\u001b[0m\u001b[0;34m]\u001b[0m\u001b[0;34m.\u001b[0m\u001b[0mvalues\u001b[0m\u001b[0;34m,\u001b[0m\u001b[0mlabel\u001b[0m\u001b[0;34m=\u001b[0m\u001b[0;34m'Experimental Growth'\u001b[0m\u001b[0;34m,\u001b[0m\u001b[0mcolor\u001b[0m\u001b[0;34m=\u001b[0m\u001b[0;34m'k'\u001b[0m\u001b[0;34m)\u001b[0m\u001b[0;34m\u001b[0m\u001b[0;34m\u001b[0m\u001b[0m\n\u001b[0;32m----> 3\u001b[0;31m \u001b[0mplt\u001b[0m\u001b[0;34m.\u001b[0m\u001b[0mplot\u001b[0m\u001b[0;34m(\u001b[0m\u001b[0mdfae_batch\u001b[0m\u001b[0;34m.\u001b[0m\u001b[0mindex\u001b[0m\u001b[0;34m,\u001b[0m\u001b[0mrae\u001b[0m\u001b[0;34m[\u001b[0m\u001b[0;34m'growth'\u001b[0m\u001b[0;34m]\u001b[0m\u001b[0;34m,\u001b[0m\u001b[0mmarkersize\u001b[0m\u001b[0;34m=\u001b[0m\u001b[0;36m5\u001b[0m\u001b[0;34m,\u001b[0m\u001b[0mmarker\u001b[0m\u001b[0;34m=\u001b[0m\u001b[0;34m'o'\u001b[0m\u001b[0;34m,\u001b[0m\u001b[0mlabel\u001b[0m\u001b[0;34m=\u001b[0m\u001b[0;34m'Pred Growth'\u001b[0m\u001b[0;34m)\u001b[0m\u001b[0;34m\u001b[0m\u001b[0;34m\u001b[0m\u001b[0m\n\u001b[0m\u001b[1;32m      4\u001b[0m \u001b[0;31m#plt.plot(dfae_batch.index,rae['glucose'],markersize=5,marker='o',label='Glucose')\u001b[0m\u001b[0;34m\u001b[0m\u001b[0;34m\u001b[0m\u001b[0m\n\u001b[1;32m      5\u001b[0m \u001b[0;31m#plt.plot(dfae_batch.index,rae['oxygen'],markersize=5,marker='o',label='Oxygen')\u001b[0m\u001b[0;34m\u001b[0m\u001b[0;34m\u001b[0m\u001b[0m\n",
      "\u001b[0;31mTypeError\u001b[0m: 'NoneType' object is not subscriptable"
     ]
    },
    {
     "data": {
      "image/png": "[encoded data removed]",
      "text/plain": [
       "<Figure size 648x432 with 1 Axes>"
      ]
     },
     "metadata": {
      "needs_background": "light"
     },
     "output_type": "display_data"
    }
   ],
   "source": [
    "plt.figure(figsize=(9, 6))\n",
    "plt.scatter(dfae_batch.index,dfae_batch['r'].values,label='Experimental Growth',color='k')\n",
    "plt.plot(dfae_batch.index,rae['growth'],markersize=5,marker='o',label='Pred Growth')\n",
    "#plt.plot(dfae_batch.index,rae['glucose'],markersize=5,marker='o',label='Glucose')\n",
    "#plt.plot(dfae_batch.index,rae['oxygen'],markersize=5,marker='o',label='Oxygen')\n",
    "plt.xlabel('Temperature ($^\\circ$C)')\n",
    "#plt.ylabel('Specific growth rate (h$^{-1}$)')\n",
    "plt.ylabel('Aerobic $r_{max}$ (h$^{-1}$)')\n",
    "\n",
    "plt.legend(fontsize=9,loc='upper left')\n",
    "plt.tight_layout()\n",
    "#plt.savefig('../results/presentation22.png')\n",
    "plt.show()"
   ]
  },
  {
   "cell_type": "code",
   "execution_count": 8,
   "id": "f5dc7b37-0e3e-4ccb-a44b-b18b1226acff",
   "metadata": {},
   "outputs": [],
   "source": [
    "mae = cobra.io.load_matlab_model('../models/ecModel.mat')\n",
    "mae.reactions.EX_glc__D_e.lower_bound = -100\n",
    "mae.reactions.BIOMASS_Ec_iJO1366_core_53p95M.upper_bound = 50"
   ]
  },
  {
   "cell_type": "code",
   "execution_count": 9,
   "id": "6238df2a-f35b-4682-a5a1-91552c81482f",
   "metadata": {},
   "outputs": [
    {
     "name": "stdout",
     "output_type": "stream",
     "text": [
      "NGAM is: 3.23\n"
     ]
    },
    {
     "name": "stderr",
     "output_type": "stream",
     "text": [
      "/home/aditi/.local/lib/python3.10/site-packages/cobra/util/solver.py:554: UserWarning: Solver status is 'infeasible'.\n",
      "  warn(f\"Solver status is '{status}'.\", UserWarning)\n"
     ]
    },
    {
     "ename": "TypeError",
     "evalue": "unsupported operand type(s) for -: 'NoneType' and 'float'",
     "output_type": "error",
     "traceback": [
      "\u001b[0;31m---------------------------------------------------------------------------\u001b[0m",
      "\u001b[0;31mTypeError\u001b[0m                                 Traceback (most recent call last)",
      "\u001b[0;32m/tmp/ipykernel_8477/783275054.py\u001b[0m in \u001b[0;36m<module>\u001b[0;34m\u001b[0m\n\u001b[0;32m----> 1\u001b[0;31m \u001b[0mrae\u001b[0m\u001b[0;34m,\u001b[0m \u001b[0mgae\u001b[0m\u001b[0;34m,\u001b[0m \u001b[0moae\u001b[0m \u001b[0;34m=\u001b[0m \u001b[0metc\u001b[0m\u001b[0;34m.\u001b[0m\u001b[0msimulate_growth_with_resampling\u001b[0m\u001b[0;34m(\u001b[0m\u001b[0mmae\u001b[0m\u001b[0;34m,\u001b[0m\u001b[0mdfae_batch\u001b[0m\u001b[0;34m,\u001b[0m\u001b[0moriParams\u001b[0m\u001b[0;34m=\u001b[0m\u001b[0mparams\u001b[0m\u001b[0;34m,\u001b[0m\u001b[0msigma\u001b[0m\u001b[0;34m=\u001b[0m\u001b[0;36m0.5\u001b[0m\u001b[0;34m)\u001b[0m\u001b[0;34m\u001b[0m\u001b[0;34m\u001b[0m\u001b[0m\n\u001b[0m",
      "\u001b[0;32m~/Documents/Project/tempDepCode/code/etcpy/etc.py\u001b[0m in \u001b[0;36msimulate_growth_with_resampling\u001b[0;34m(model, dfae, sigma, oriParams, Tadj)\u001b[0m\n\u001b[1;32m    516\u001b[0m                     \u001b[0mg\u001b[0m \u001b[0;34m=\u001b[0m \u001b[0;36m0\u001b[0m\u001b[0;34m\u001b[0m\u001b[0;34m\u001b[0m\u001b[0m\n\u001b[1;32m    517\u001b[0m                     \u001b[0mo\u001b[0m \u001b[0;34m=\u001b[0m \u001b[0;36m0\u001b[0m\u001b[0;34m\u001b[0m\u001b[0;34m\u001b[0m\u001b[0m\n\u001b[0;32m--> 518\u001b[0;31m             \u001b[0;32mif\u001b[0m \u001b[0mabs\u001b[0m\u001b[0;34m(\u001b[0m\u001b[0mr\u001b[0m \u001b[0;34m-\u001b[0m \u001b[0mdfae\u001b[0m\u001b[0;34m[\u001b[0m\u001b[0;34m'r'\u001b[0m\u001b[0;34m]\u001b[0m\u001b[0;34m.\u001b[0m\u001b[0mvalues\u001b[0m\u001b[0;34m)\u001b[0m \u001b[0;34m<\u001b[0m \u001b[0;36m0.1\u001b[0m\u001b[0;34m:\u001b[0m\u001b[0;34m\u001b[0m\u001b[0;34m\u001b[0m\u001b[0m\n\u001b[0m\u001b[1;32m    519\u001b[0m                 \u001b[0;32mbreak\u001b[0m\u001b[0;34m\u001b[0m\u001b[0;34m\u001b[0m\u001b[0m\n\u001b[1;32m    520\u001b[0m             \u001b[0;32melse\u001b[0m\u001b[0;34m:\u001b[0m\u001b[0;34m\u001b[0m\u001b[0;34m\u001b[0m\u001b[0m\n",
      "\u001b[0;31mTypeError\u001b[0m: unsupported operand type(s) for -: 'NoneType' and 'float'"
     ]
    }
   ],
   "source": [
    "rae, gae, oae = etc.simulate_growth_with_resampling(mae,dfae_batch,oriParams=params,sigma=0.5)"
   ]
  },
  {
   "cell_type": "code",
   "execution_count": null,
   "id": "8623ec95-74ea-4f4d-bf44-0a340d0c1c39",
   "metadata": {},
   "outputs": [],
   "source": [
    "etc.sample_data_uncertainty_with_constraint(params, ['Topt', 'dCpt'])"
   ]
  },
  {
   "cell_type": "code",
   "execution_count": 11,
   "id": "5472da02-c43a-449e-91d0-1659228dc0c5",
   "metadata": {},
   "outputs": [
    {
     "name": "stdout",
     "output_type": "stream",
     "text": [
      "NGAM is: 3.23\n",
      "Growth at  9.205600000000004 is:  4.1069279039817215e-10\n",
      "NGAM is: 3.23\n",
      "Growth at  10.953000000000031 is:  1.0756937310348469e-09\n",
      "NGAM is: 3.23\n",
      "Growth at  12.414300000000026 is:  3.127697009469453e-09\n",
      "NGAM is: 3.23\n",
      "Growth at  13.48380000000003 is:  1.2386578674024333e-08\n",
      "NGAM is: 3.23\n",
      "Growth at  14.873800000000017 is:  3.5197677759459364e-08\n",
      "NGAM is: 3.23\n",
      "Growth at  15.905700000000024 is:  7.537168648639564e-08\n",
      "NGAM is: 3.23\n",
      "Growth at  17.012100000000032 is:  7.86449816542878e-08\n",
      "NGAM is: 3.23\n",
      "Growth at  18.117400000000032 is:  1.657992152202711e-07\n",
      "NGAM is: 3.23\n",
      "Growth at  19.256100000000004 is:  3.5338899911028304e-07\n",
      "NGAM is: 3.23\n",
      "Growth at  20.217100000000016 is:  6.633033017903187e-07\n",
      "NGAM is: 3.23\n",
      "Growth at  21.14330000000001 is:  1.2075721642538385e-06\n",
      "NGAM is: 3.23\n",
      "Growth at  22.353400000000022 is:  2.6119742479714773e-06\n",
      "NGAM is: 3.23\n",
      "Growth at  24.41900000000004 is:  9.468431617532891e-06\n",
      "NGAM is: 3.477026378713294\n",
      "Growth at  25.737300000000005 is:  2.113817188180628e-05\n",
      "NGAM is: 3.77966481688261\n",
      "Growth at  26.697100000000034 is:  3.758975524929141e-05\n",
      "NGAM is: 4.172801131119886\n",
      "Growth at  28.05060000000003 is:  8.357213023311007e-05\n",
      "NGAM is: 4.448594738531727\n",
      "Growth at  29.083799999999997 is:  0.00015227142602851384\n",
      "NGAM is: 4.67031274894604\n",
      "Growth at  29.97240000000005 is:  0.00025336994806455046\n",
      "NGAM is: 5.006251926748926\n",
      "Growth at  31.4332 is:  0.0005773366952499131\n",
      "NGAM is: 5.135462318489699\n",
      "Growth at  32.0369 is:  0.0008074952996049706\n",
      "NGAM is: 5.622556567192291\n",
      "Growth at  34.56800000000004 is:  0.0031981191137742428\n",
      "NGAM is: 5.8216247893858\n",
      "Growth at  35.74240000000003 is:  0.0059586338364780835\n",
      "NGAM is: 6.166349338813394\n",
      "Growth at  38.024699999999996 is:  0.019398574225225028\n",
      "NGAM is: 6.428867452166105\n",
      "Growth at  40.028999999999996 is:  0.025978355670923322\n",
      "NGAM is: 6.639038761736624\n",
      "Growth at  41.84820000000002 is:  0.017204070244162428\n"
     ]
    },
    {
     "ename": "UnboundLocalError",
     "evalue": "local variable 'gae' referenced before assignment",
     "output_type": "error",
     "traceback": [
      "\u001b[0;31m---------------------------------------------------------------------------\u001b[0m",
      "\u001b[0;31mUnboundLocalError\u001b[0m                         Traceback (most recent call last)",
      "\u001b[0;32m/tmp/ipykernel_8477/3123586622.py\u001b[0m in \u001b[0;36m<module>\u001b[0;34m\u001b[0m\n\u001b[0;32m----> 1\u001b[0;31m \u001b[0mrae\u001b[0m \u001b[0;34m=\u001b[0m \u001b[0maerobic\u001b[0m\u001b[0;34m(\u001b[0m\u001b[0mparams\u001b[0m\u001b[0;34m)\u001b[0m\u001b[0;34m\u001b[0m\u001b[0;34m\u001b[0m\u001b[0m\n\u001b[0m",
      "\u001b[0;32m/tmp/ipykernel_8477/1137969485.py\u001b[0m in \u001b[0;36maerobic\u001b[0;34m(params)\u001b[0m\n\u001b[1;32m     23\u001b[0m     \u001b[0;31m#print('r2_batch:',r2_score(rexp,rae))\u001b[0m\u001b[0;34m\u001b[0m\u001b[0;34m\u001b[0m\u001b[0m\n\u001b[1;32m     24\u001b[0m     \u001b[0;31m#print('MSE_ae',MSE(rexp,rae))\u001b[0m\u001b[0;34m\u001b[0m\u001b[0;34m\u001b[0m\u001b[0m\n\u001b[0;32m---> 25\u001b[0;31m     \u001b[0;32mreturn\u001b[0m \u001b[0;34m{\u001b[0m\u001b[0;34m'growth'\u001b[0m\u001b[0;34m:\u001b[0m\u001b[0mnp\u001b[0m\u001b[0;34m.\u001b[0m\u001b[0marray\u001b[0m\u001b[0;34m(\u001b[0m\u001b[0mrae\u001b[0m\u001b[0;34m)\u001b[0m\u001b[0;34m,\u001b[0m \u001b[0;34m'glucose'\u001b[0m\u001b[0;34m:\u001b[0m\u001b[0mnp\u001b[0m\u001b[0;34m.\u001b[0m\u001b[0marray\u001b[0m\u001b[0;34m(\u001b[0m\u001b[0mgae\u001b[0m\u001b[0;34m)\u001b[0m\u001b[0;34m,\u001b[0m \u001b[0;34m'oxygen'\u001b[0m\u001b[0;34m:\u001b[0m \u001b[0mnp\u001b[0m\u001b[0;34m.\u001b[0m\u001b[0marray\u001b[0m\u001b[0;34m(\u001b[0m\u001b[0moae\u001b[0m\u001b[0;34m)\u001b[0m\u001b[0;34m}\u001b[0m\u001b[0;34m\u001b[0m\u001b[0;34m\u001b[0m\u001b[0m\n\u001b[0m",
      "\u001b[0;31mUnboundLocalError\u001b[0m: local variable 'gae' referenced before assignment"
     ]
    }
   ],
   "source": [
    "rae = aerobic(params)"
   ]
  },
  {
   "cell_type": "code",
   "execution_count": null,
   "id": "ba392f30-2d1b-463a-aedb-5156a93cd946",
   "metadata": {},
   "outputs": [],
   "source": [
    "\n"
   ]
  }
 ],
 "metadata": {
  "kernelspec": {
   "display_name": "Python 3 (ipykernel)",
   "language": "python",
   "name": "python3"
  },
  "language_info": {
   "codemirror_mode": {
    "name": "ipython",
    "version": 3
   },
   "file_extension": ".py",
   "mimetype": "text/x-python",
   "name": "python",
   "nbconvert_exporter": "python",
   "pygments_lexer": "ipython3",
   "version": "3.10.6"
  }
 },
 "nbformat": 4,
 "nbformat_minor": 5
}
