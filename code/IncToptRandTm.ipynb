{
 "cells": [
  {
   "cell_type": "code",
   "execution_count": null,
   "id": "cb3b4f86-ec2c-483a-b4f9-360747514777",
   "metadata": {},
   "outputs": [],
   "source": [
    "import cobra\n",
    "import GEMS\n",
    "import pandas as pd\n",
    "import numpy as np\n",
    "import os\n",
    "import re\n",
    "\n",
    "\n",
    "import pickle\n",
    "from etcpy import etc\n",
    "from etcpy import tempDep\n",
    "from sklearn.metrics import mean_squared_error as MSE\n",
    "from sklearn.metrics import r2_score\n",
    "\n",
    "import matplotlib.pyplot as plt"
   ]
  },
  {
   "cell_type": "code",
   "execution_count": null,
   "id": "a77aae72-fa52-4ce8-8572-6be4225ca733",
   "metadata": {},
   "outputs": [],
   "source": [
    "data = GEMS.load_exp_data('../data/ExpGrowth.csv')\n",
    "path = '../'\n",
    "params = pd.read_csv(os.path.join(path,'data/model_enzyme_params_new_tagged.csv'),index_col=0)\n",
    "df = etc.calculate_thermal_params(params)\n",
    "\n",
    "dfae_batch = data[0].set_index('Ts').rename_axis(None)"
   ]
  },
  {
   "cell_type": "code",
   "execution_count": null,
   "id": "1a09d64f-1b36-4152-b2ad-9d74dcd98c86",
   "metadata": {},
   "outputs": [],
   "source": [
    "def aerobic(params):\n",
    "    # thermalParams: a dictionary with ids like uniprotid_Topt \n",
    "    df = etc.calculate_thermal_params(params)\n",
    "    #mae = pickle.load(open(os.path.join(path,'models/aerobic.pkl'),'rb'))\n",
    "    mae = cobra.io.load_matlab_model('../models/ecModel.mat')\n",
    "    \n",
    "    match = re.compile('usage_prot_*', re.IGNORECASE)\n",
    "    for react in mae.reactions:\n",
    "        if match.match(react.id) and react.lower_bound != -1000:\n",
    "            ori_lb = react.lower_bound\n",
    "            react.lower_bound = ori_lb*2\n",
    "\n",
    "\n",
    "    mae.reactions.EX_glc__D_e.lower_bound = -100\n",
    "    mae.reactions.BIOMASS_Ec_iJO1366_core_53p95M.upper_bound = 50\n",
    "    #mae.medium['EX_glc__D_e'] = 100\n",
    "    \n",
    "    try: \n",
    "        rae, gae, oae = etc.simulate_growth(mae,dfae_batch.index+273.15,df=df,sigma=0.5)\n",
    "    except: \n",
    "        rae = np.zeros(dfae_batch.shape[0])\n",
    "        model = None\n",
    "    \n",
    "    rae = [0 if x is None else x for x in rae]\n",
    "    rae = [0 if x<1e-3 else x for x in rae]\n",
    "    rexp = dfae_batch['r'].values\n",
    "    #print(rae)\n",
    "    #print(abs(rae - dfae_batch['r'].values))\n",
    "    print('r2_batch:',r2_score(rexp,rae))\n",
    "    print('MSE_ae',MSE(rexp,rae))\n",
    "    return {'growth':np.array(rae), 'glucose':np.array(gae), 'oxygen': np.array(oae)}, r2_score(rexp,rae)"
   ]
  },
  {
   "cell_type": "code",
   "execution_count": null,
   "id": "8c7eb77f-78f6-4513-bf02-df9d28fa9727",
   "metadata": {
    "scrolled": true,
    "tags": []
   },
   "outputs": [],
   "source": [
    "i = 1\n",
    "S = 0\n",
    "while i<11:\n",
    "    print(i)\n",
    "    if i == 1:\n",
    "        params = tempDep.sample_data_uncertainty_with_constraint_increasing_topt(params, ['Topt', 'dCpt'])\n",
    "        rae, score = aerobic(params)\n",
    "        if score > S:\n",
    "            S = score\n",
    "    elif score < S:\n",
    "        params = tempDep.sample_data_uncertainty_with_constraint_small_increasing_topt(params, ['Topt', 'dCpt'])\n",
    "        rae, score = aerobic(params)\n",
    "        if score > S:\n",
    "            S = score\n",
    "    else:\n",
    "        newParams = tempDep.sample_data_uncertainty_with_constraint_random_topt(params, ['Tm'])\n",
    "        rae, score = aerobic(newParams)\n",
    "        if score > S:\n",
    "            S = score\n",
    "    fig, ax1 = plt.subplots(figsize=(9, 6))\n",
    "    ax2 = ax1.twinx()\n",
    "\n",
    "    ax1.scatter(dfae_batch.index,dfae_batch['r'].values,label='Experimental Growth',color='k')\n",
    "    ax1.plot(dfae_batch.index,rae['growth'],markersize=5,marker='o',label='Pred Growth')\n",
    "\n",
    "    ax2.plot(dfae_batch.index,rae['glucose'],markersize=5,marker='o',label='Glucose Uptake', color='tab:brown')\n",
    "    ax2.plot(dfae_batch.index,rae['oxygen'],markersize=5,marker='o',label='Oxygen Uptake', color='tab:gray')\n",
    "\n",
    "    ax1.set_xlabel(\"Temperature ($^\\circ$C)\")\n",
    "    ax1.set_ylabel(\"Aerobic $r_{max}$ (h$^{-1}$)\")\n",
    "\n",
    "    ax2.set_ylabel(\"Uptake fkux\")\n",
    "\n",
    "    fig.legend(fontsize=12)\n",
    "    fig.tight_layout()\n",
    "    fig.savefig(\"../results/IncToptRandTm\" + str(i) + \".pdf\")\n",
    "    i = i +1"
   ]
  },
  {
   "cell_type": "code",
   "execution_count": null,
   "id": "12c55c6b-6d38-40bc-86f0-69324f9278c3",
   "metadata": {},
   "outputs": [],
   "source": [
    "newParams.to_csv('../data/model_enzyme_params_modifiedTm.csv')"
   ]
  },
  {
   "cell_type": "code",
   "execution_count": null,
   "id": "2b3992de-ef60-4b4f-be66-5698ac8bc54c",
   "metadata": {},
   "outputs": [],
   "source": [
    "params"
   ]
  }
 ],
 "metadata": {
  "kernelspec": {
   "display_name": "Python 3 (ipykernel)",
   "language": "python",
   "name": "python3"
  },
  "language_info": {
   "codemirror_mode": {
    "name": "ipython",
    "version": 3
   },
   "file_extension": ".py",
   "mimetype": "text/x-python",
   "name": "python",
   "nbconvert_exporter": "python",
   "pygments_lexer": "ipython3",
   "version": "3.10.6"
  }
 },
 "nbformat": 4,
 "nbformat_minor": 5
}
