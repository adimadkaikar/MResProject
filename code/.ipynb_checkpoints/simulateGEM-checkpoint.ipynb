{
 "cells": [
  {
   "cell_type": "code",
   "execution_count": 1,
   "id": "24dd2a8c-3658-4c69-8f79-4672e10f3dca",
   "metadata": {},
   "outputs": [],
   "source": [
    "import cobra\n",
    "import GEMS\n",
    "import pandas as pd\n",
    "import numpy as np\n",
    "import os\n",
    "\n",
    "\n",
    "import pickle\n",
    "from etcpy import etc\n",
    "from sklearn.metrics import mean_squared_error as MSE\n",
    "from sklearn.metrics import r2_score\n",
    "\n",
    "import matplotlib.pyplot as plt"
   ]
  },
  {
   "cell_type": "code",
   "execution_count": 3,
   "id": "72e365c3-14f2-4b5a-a4ab-4d6a52dd696a",
   "metadata": {},
   "outputs": [],
   "source": [
    "path = '../'\n",
    "params = pd.read_csv(os.path.join(path,'data/model_enzyme_params.csv'),index_col=0)\n",
    "dataDict = GEMS.load_exp_data(os.path.join(path, 'data/ExpGrowth.csv'))"
   ]
  },
  {
   "cell_type": "code",
   "execution_count": null,
   "id": "be86ea9e-13ea-4383-8da0-095977970cd0",
   "metadata": {},
   "outputs": [],
   "source": [
    "def aerobic(params):\n",
    "    # thermalParams: a dictionary with ids like uniprotid_Topt \n",
    "    df = etc.calculate_thermal_params(params)\n",
    "    #mae = pickle.load(open(os.path.join(path,'models/aerobic.pkl'),'rb'))\n",
    "    mae = cobra.io.read_sbml_model('../models/YeastGEM.xml')\n",
    "    \n",
    "    try: rae = etc.simulate_growth(mae,dfae_batch.index+273.15,df=df,sigma=0.5)\n",
    "    except: rae = np.zeros(dfae_batch.shape[0])\n",
    "    \n",
    "    rae = [0 if x is None else x for x in rae]\n",
    "    rae = [0 if x<1e-3 else x for x in rae]\n",
    "    print(rae)\n",
    "    rexp = GEMS.aerobic_exp_data()['data']\n",
    "    \n",
    "    print('r2_batch:',r2_score(rexp,rae))\n",
    "    print('MSE_ae',MSE(rexp,rae))\n",
    "    return {'data':np.array(rae)}"
   ]
  },
  {
   "cell_type": "code",
   "execution_count": null,
   "id": "8f26d5c3-0405-489e-b612-6d7088b4cb33",
   "metadata": {},
   "outputs": [],
   "source": [
    "def anaerobic(params):\n",
    "    df = etc.calculate_thermal_params(params)\n",
    "    #man = pickle.load(open(os.path.join(path,'models/anaerobic.pkl'),'rb'))\n",
    "    man = cobra.io.read_sbml_model('../models/ecYeastAn.xml')\n",
    "\n",
    "    try: ran = etc.simulate_growth(man,dfan_batch.index+273.15,df=df,sigma=0.5)\n",
    "    except: ran = np.zeros(dfan_batch.shape[0])\n",
    "    ran = [0 if x is None else x for x in ran]\n",
    "    rexp = GEMS.anaerobic_exp_data()['data']\n",
    "    \n",
    "    print('r2_batch_an:',r2_score(rexp,ran))\n",
    "    print('MSE_an',MSE(rexp,ran))\n",
    "\n",
    "    return  {'data':np.array(ran)}"
   ]
  },
  {
   "cell_type": "code",
   "execution_count": null,
   "id": "694a8d19-b8a3-4090-93ea-2653d529b2a9",
   "metadata": {},
   "outputs": [],
   "source": [
    "def chemostat(params):\n",
    "    \n",
    "    #mae = pickle.load(open(os.path.join(path,'models/aerobic.pkl'),'rb'))\n",
    "    mae = cobra.io.read_sbml_model('../models/YeastGEM.xml')\n",
    "    exp_flux = GEMS.chemostat_exp_data()['data']\n",
    "    \n",
    "    growth_id = 'r_2111'\n",
    "    glc_up_id = 'r_1714_REV'\n",
    "    prot_pool_id = 'prot_pool_exchange'\n",
    "    dilut = 0.1\n",
    "    sigma = 0.5\n",
    "    \n",
    "    try:\n",
    "        solution = etc.simulate_chomostat(mae,dilut,params,dfchemo.index+273.15,\n",
    "                                              sigma,growth_id,glc_up_id,prot_pool_id)\n",
    "\n",
    "        # Extract fluxes\n",
    "        rxn_lst = [\n",
    "                'r_1714_REV',#Glucose\n",
    "                'r_1672', #CO2\n",
    "                'r_1761', # Ethanol\n",
    "            ]\n",
    "        columns = ['Glucose','CO2','Ethanol']\n",
    "\n",
    "        pred_flux = []\n",
    "        for i,rxn_id in enumerate(rxn_lst):\n",
    "            x = [s.fluxes[rxn_id] for s in solution]\n",
    "            x.extend([0]*(len(dfchemo.index)-len(x)))\n",
    "            pred_flux += x\n",
    "        print(pred_flux)\n",
    "    \n",
    "    except: pred_flux = [0 for item in exp_flux]\n",
    "    \n",
    "    print('r2_flux:',r2_score(exp_flux,pred_flux))\n",
    "    print('MSE_chemo',MSE(exp_flux,pred_flux))\n",
    "\n",
    "    return  {'data':np.array(pred_flux)}"
   ]
  },
  {
   "cell_type": "code",
   "execution_count": null,
   "id": "5ee01a1d-545c-4847-a541-b3daaee5e4a0",
   "metadata": {},
   "outputs": [],
   "source": [
    "rae = aerobic(params)"
   ]
  }
 ],
 "metadata": {
  "kernelspec": {
   "display_name": "Python 3 (ipykernel)",
   "language": "python",
   "name": "python3"
  },
  "language_info": {
   "codemirror_mode": {
    "name": "ipython",
    "version": 3
   },
   "file_extension": ".py",
   "mimetype": "text/x-python",
   "name": "python",
   "nbconvert_exporter": "python",
   "pygments_lexer": "ipython3",
   "version": "3.10.6"
  }
 },
 "nbformat": 4,
 "nbformat_minor": 5
}
