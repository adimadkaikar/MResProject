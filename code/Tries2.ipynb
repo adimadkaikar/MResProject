{
 "cells": [
  {
   "cell_type": "code",
   "execution_count": 1,
   "id": "30d54927-2101-454c-9e19-d83e2457833e",
   "metadata": {},
   "outputs": [],
   "source": [
    "import cobra\n",
    "import GEMS\n",
    "import pandas as pd\n",
    "import numpy as np\n",
    "import os\n",
    "import re\n",
    "\n",
    "\n",
    "import pickle\n",
    "from etcpy import etc\n",
    "from etcpy import tempDep\n",
    "from sklearn.metrics import mean_squared_error as MSE\n",
    "from sklearn.metrics import r2_score\n",
    "\n",
    "import matplotlib.pyplot as plt"
   ]
  },
  {
   "cell_type": "code",
   "execution_count": 2,
   "id": "1326132e-5e78-4408-8a8f-670688d88def",
   "metadata": {},
   "outputs": [
    {
     "ename": "NameError",
     "evalue": "name 'params' is not defined",
     "output_type": "error",
     "traceback": [
      "\u001b[0;31m---------------------------------------------------------------------------\u001b[0m",
      "\u001b[0;31mNameError\u001b[0m                                 Traceback (most recent call last)",
      "\u001b[0;32m/tmp/ipykernel_14998/3509604381.py\u001b[0m in \u001b[0;36m<module>\u001b[0;34m\u001b[0m\n\u001b[1;32m      2\u001b[0m \u001b[0mpath\u001b[0m \u001b[0;34m=\u001b[0m \u001b[0;34m'../'\u001b[0m\u001b[0;34m\u001b[0m\u001b[0;34m\u001b[0m\u001b[0m\n\u001b[1;32m      3\u001b[0m \u001b[0mparams2\u001b[0m \u001b[0;34m=\u001b[0m \u001b[0mpd\u001b[0m\u001b[0;34m.\u001b[0m\u001b[0mread_csv\u001b[0m\u001b[0;34m(\u001b[0m\u001b[0mos\u001b[0m\u001b[0;34m.\u001b[0m\u001b[0mpath\u001b[0m\u001b[0;34m.\u001b[0m\u001b[0mjoin\u001b[0m\u001b[0;34m(\u001b[0m\u001b[0mpath\u001b[0m\u001b[0;34m,\u001b[0m\u001b[0;34m'data/BestParamsTopt.csv'\u001b[0m\u001b[0;34m)\u001b[0m\u001b[0;34m,\u001b[0m\u001b[0mindex_col\u001b[0m\u001b[0;34m=\u001b[0m\u001b[0;36m0\u001b[0m\u001b[0;34m)\u001b[0m\u001b[0;34m\u001b[0m\u001b[0;34m\u001b[0m\u001b[0m\n\u001b[0;32m----> 4\u001b[0;31m \u001b[0mdf\u001b[0m \u001b[0;34m=\u001b[0m \u001b[0metc\u001b[0m\u001b[0;34m.\u001b[0m\u001b[0mcalculate_thermal_params\u001b[0m\u001b[0;34m(\u001b[0m\u001b[0mparams\u001b[0m\u001b[0;34m)\u001b[0m\u001b[0;34m\u001b[0m\u001b[0;34m\u001b[0m\u001b[0m\n\u001b[0m\u001b[1;32m      5\u001b[0m \u001b[0;34m\u001b[0m\u001b[0m\n\u001b[1;32m      6\u001b[0m \u001b[0mdfae_batch\u001b[0m \u001b[0;34m=\u001b[0m \u001b[0mdata\u001b[0m\u001b[0;34m[\u001b[0m\u001b[0;36m0\u001b[0m\u001b[0;34m]\u001b[0m\u001b[0;34m.\u001b[0m\u001b[0mset_index\u001b[0m\u001b[0;34m(\u001b[0m\u001b[0;34m'Ts'\u001b[0m\u001b[0;34m)\u001b[0m\u001b[0;34m.\u001b[0m\u001b[0mrename_axis\u001b[0m\u001b[0;34m(\u001b[0m\u001b[0;32mNone\u001b[0m\u001b[0;34m)\u001b[0m\u001b[0;34m\u001b[0m\u001b[0;34m\u001b[0m\u001b[0m\n",
      "\u001b[0;31mNameError\u001b[0m: name 'params' is not defined"
     ]
    }
   ],
   "source": [
    "data = GEMS.load_exp_data('../data/ExpGrowth.csv')\n",
    "path = '../'\n",
    "params2 = pd.read_csv(os.path.join(path,'data/BestParamsTopt.csv'),index_col=0)\n",
    "df = etc.calculate_thermal_params(params)\n",
    "\n",
    "dfae_batch = data[0].set_index('Ts').rename_axis(None)\n",
    "params2"
   ]
  },
  {
   "cell_type": "code",
   "execution_count": null,
   "id": "ec3f402b-b5dc-4278-8245-a0ff615df8c1",
   "metadata": {},
   "outputs": [],
   "source": [
    "data = GEMS.load_exp_data('../data/ExpGrowth.csv')\n",
    "path = '../'\n",
    "params = pd.read_csv(os.path.join(path,'data/model_enzyme_params_new_tagged.csv'),index_col=0)\n",
    "df = etc.calculate_thermal_params(params)\n",
    "\n",
    "dfae_batch = data[0].set_index('Ts').rename_axis(None)\n",
    "params"
   ]
  },
  {
   "cell_type": "code",
   "execution_count": null,
   "id": "2448c437-89fe-4b34-8089-c7d1dbf74c2b",
   "metadata": {},
   "outputs": [],
   "source": [
    "def aerobic(params):\n",
    "    # thermalParams: a dictionary with ids like uniprotid_Topt \n",
    "    df = etc.calculate_thermal_params(params)\n",
    "    #mae = pickle.load(open(os.path.join(path,'models/aerobic.pkl'),'rb'))\n",
    "    mae = cobra.io.load_matlab_model('../models/ecModel.mat')\n",
    "    \n",
    "    match = re.compile('usage_prot_*', re.IGNORECASE)\n",
    "    for react in mae.reactions:\n",
    "        if match.match(react.id) and react.lower_bound != -1000:\n",
    "            ori_lb = react.lower_bound\n",
    "            react.lower_bound = ori_lb*2.5\n",
    "\n",
    "\n",
    "    mae.reactions.EX_glc__D_e.lower_bound = -100\n",
    "    mae.reactions.BIOMASS_Ec_iJO1366_core_53p95M.upper_bound = 50\n",
    "    #mae.medium['EX_glc__D_e'] = 100\n",
    "    \n",
    "    try: \n",
    "        rae, gae, oae = etc.simulate_growth(mae,dfae_batch.index+273.15,df=df,sigma=0.5)\n",
    "    except: \n",
    "        rae = np.zeros(dfae_batch.shape[0])\n",
    "        model = None\n",
    "    \n",
    "    rae = [0 if x is None else x for x in rae]\n",
    "    rae = [0 if x<1e-3 else x for x in rae]\n",
    "    rexp = dfae_batch['r'].values\n",
    "    #print(rae)\n",
    "    print(abs(rae - dfae_batch['r'].values))\n",
    "    print('r2_batch:',r2_score(rexp,rae))\n",
    "    print('MSE_ae',MSE(rexp,rae))\n",
    "    return {'growth':np.array(rae), 'glucose':np.array(gae), 'oxygen': np.array(oae)}, r2_score(rexp,rae)"
   ]
  },
  {
   "cell_type": "code",
   "execution_count": null,
   "id": "290407b9-99e8-4f12-bd7f-ef2f31677252",
   "metadata": {
    "scrolled": true,
    "tags": []
   },
   "outputs": [],
   "source": [
    "S = 0\n",
    "SMin = 0\n",
    "df = pd.DataFrame(columns=['iter', 'temp', 'growth', 'o2flux', 'gluFlux'])\n",
    "for i in range(1,11):\n",
    "    print(i)\n",
    "    if i == 1:\n",
    "        params = tempDep.sample_data_uncertainty_with_constraint_increasing_topt(params, ['Topt', 'dCpt'])\n",
    "        rae, score = aerobic(params)\n",
    "\n",
    "    else:\n",
    "        params = tempDep.sample_data_uncertainty_with_constraint_small_increasing_topt(params, ['Topt'])\n",
    "        rae, score = aerobic(params)\n",
    "    \n",
    "    if score > S:\n",
    "        S = score\n",
    "        params.to_csv('../data/BestParamsTopt.csv')\n",
    "        bestParams = params\n",
    "    \n",
    "        fig, ax1 = plt.subplots(figsize=(9, 6))\n",
    "        ax2 = ax1.twinx()\n",
    "\n",
    "        ax1.scatter(dfae_batch.index,dfae_batch['r'].values,label='Experimental Growth',color='k')\n",
    "        ax1.plot(dfae_batch.index,rae['growth'],markersize=5,marker='o',label='Pred Growth')\n",
    "\n",
    "        ax2.plot(dfae_batch.index,rae['glucose'],markersize=5,marker='o',label='Glucose Uptake', color='tab:brown')\n",
    "        ax2.plot(dfae_batch.index,rae['oxygen'],markersize=5,marker='o',label='Oxygen Uptake', color='tab:gray')\n",
    "\n",
    "        ax1.set_xlabel(\"Temperature ($^\\circ$C)\")\n",
    "        ax1.set_ylabel(\"Aerobic $r_{max}$ (h$^{-1}$)\")\n",
    "\n",
    "        ax2.set_ylabel(\"Uptake fkux\")\n",
    "\n",
    "        fig.legend(fontsize=10, loc=2)\n",
    "        fig.tight_layout()\n",
    "        fig.savefig(\"../results/TmWigFirstTopt\" + str(i) + \".pdf\")\n",
    "        plt.close(fig)\n",
    "    elif score < SMin:\n",
    "        SMin = score\n",
    "        params.to_csv('../data/WorstParamsTopt.csv')\n",
    "    \n",
    "        fig, ax1 = plt.subplots(figsize=(9, 6))\n",
    "        ax2 = ax1.twinx()\n",
    "\n",
    "        ax1.scatter(dfae_batch.index,dfae_batch['r'].values,label='Experimental Growth',color='k')\n",
    "        ax1.plot(dfae_batch.index,rae['growth'],markersize=5,marker='o',label='Pred Growth')\n",
    "\n",
    "        ax2.plot(dfae_batch.index,rae['glucose'],markersize=5,marker='o',label='Glucose Uptake', color='tab:brown')\n",
    "        ax2.plot(dfae_batch.index,rae['oxygen'],markersize=5,marker='o',label='Oxygen Uptake', color='tab:gray')\n",
    "\n",
    "        ax1.set_xlabel(\"Temperature ($^\\circ$C)\")\n",
    "        ax1.set_ylabel(\"Aerobic $r_{max}$ (h$^{-1}$)\")\n",
    "\n",
    "        ax2.set_ylabel(\"Uptake fkux\")\n",
    "\n",
    "        fig.legend(fontsize=10, loc=2)\n",
    "        fig.tight_layout()\n",
    "        fig.savefig(\"../results/TmWigFirstTopt\" + str(i) + \".pdf\")\n",
    "        plt.close(fig)\n",
    "    \n",
    "    df1 = pd.DataFrame(columns=['iter', 'temp', 'growth', 'o2flux', 'gluFlux'])\n",
    "    df1['iter'] = [i for j in range(len(dfae_batch.index))]\n",
    "    df1['temp'] = dfae_batch.index\n",
    "    df1['growth'] = rae['growth']\n",
    "    df1['o2flux'] = rae['oxygen']\n",
    "    df1['gluFlux'] = rae['glucose']\n",
    "    df = pd.concat([df, df1])"
   ]
  },
  {
   "cell_type": "code",
   "execution_count": null,
   "id": "a75f4ff0-56c3-4558-813d-2e33d82f2bea",
   "metadata": {},
   "outputs": [],
   "source": []
  }
 ],
 "metadata": {
  "kernelspec": {
   "display_name": "Python 3 (ipykernel)",
   "language": "python",
   "name": "python3"
  },
  "language_info": {
   "codemirror_mode": {
    "name": "ipython",
    "version": 3
   },
   "file_extension": ".py",
   "mimetype": "text/x-python",
   "name": "python",
   "nbconvert_exporter": "python",
   "pygments_lexer": "ipython3",
   "version": "3.10.6"
  }
 },
 "nbformat": 4,
 "nbformat_minor": 5
}
