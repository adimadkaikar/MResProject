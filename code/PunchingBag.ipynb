{
 "cells": [
  {
   "cell_type": "code",
   "execution_count": null,
   "id": "78a40018-23c4-4cc9-ac9a-ccc479bd172c",
   "metadata": {},
   "outputs": [],
   "source": [
    "import cobra\n",
    "import GEMS\n",
    "import pandas as pd\n",
    "import numpy as np\n",
    "import os\n",
    "\n",
    "\n",
    "import pickle\n",
    "from etcpy import etc\n",
    "from sklearn.metrics import mean_squared_error as MSE\n",
    "from sklearn.metrics import r2_score\n",
    "\n",
    "import matplotlib.pyplot as plt\n",
    "\n",
    "import requests"
   ]
  },
  {
   "cell_type": "code",
   "execution_count": null,
   "id": "19b9aefe-91e6-4281-8b04-192cf00d769b",
   "metadata": {
    "scrolled": true,
    "tags": []
   },
   "outputs": [],
   "source": [
    "data = GEMS.load_exp_data('../data/ExpGrowth.csv')"
   ]
  },
  {
   "cell_type": "code",
   "execution_count": null,
   "id": "316763db-6753-497a-b267-eb6825c47005",
   "metadata": {},
   "outputs": [],
   "source": [
    "path = '../'\n",
    "params = pd.read_csv(os.path.join(path,'data/model_enzyme_params.csv'),index_col=0)"
   ]
  },
  {
   "cell_type": "code",
   "execution_count": null,
   "id": "925e4cbf-cc1a-40ca-8eb7-c63a80b1d67b",
   "metadata": {},
   "outputs": [],
   "source": [
    "def query_protein_length(proteins):\n",
    "    base_url = \"https://rest.uniprot.org/uniprotkb/\"\n",
    "    protein_lengths = {}\n",
    "    \n",
    "    for protein in proteins:\n",
    "        url = base_url + protein + \".txt\"\n",
    "        response = requests.get(url)\n",
    "\n",
    "        if response.status_code == 200:\n",
    "            lines = response.text.split('\\n')\n",
    "\n",
    "            for line in lines:\n",
    "                if line.startswith('SQ'):\n",
    "                    parts = line.split()\n",
    "                    protein_lengths[protein] = int(parts[2])\n",
    "\n",
    "    return protein_lengths"
   ]
  },
  {
   "cell_type": "code",
   "execution_count": null,
   "id": "3a1866b8-16d7-4621-8beb-4933b3a792ee",
   "metadata": {},
   "outputs": [],
   "source": [
    "# Example usage\n",
    "protein_list = params[params['Length'].isnull()].index.to_list()  # List of proteins for which you want to query the length\n",
    "protein_lengths = query_protein_length(protein_list)"
   ]
  },
  {
   "cell_type": "code",
   "execution_count": null,
   "id": "9f3411de-9ab0-4366-a132-2104b5a963aa",
   "metadata": {
    "scrolled": true,
    "tags": []
   },
   "outputs": [],
   "source": [
    "# Example usage\n",
    "protein_list = params[params['Length'].isnull()].index.to_list()  # List of proteins for which you want to query the length\n",
    "protein_lengths = query_protein_length(protein_list)\n",
    "\n",
    "#Print the protein lengths\n",
    "for protein, length in protein_lengths.items():\n",
    "    print(f\"Protein: {protein} - Length: {length}\")"
   ]
  },
  {
   "cell_type": "code",
   "execution_count": null,
   "id": "b087ac38-f63d-4ced-b3c5-e8df829cc7d5",
   "metadata": {},
   "outputs": [],
   "source": [
    "from concurrent.futures import ThreadPoolExecutor"
   ]
  },
  {
   "cell_type": "code",
   "execution_count": null,
   "id": "42e8a1fb-9269-45ec-a0e1-6e813d7d3345",
   "metadata": {},
   "outputs": [],
   "source": [
    "def query_protein_length(protein):\n",
    "    base_url = \"https://rest.uniprot.org/uniprotkb/\"\n",
    "    url = base_url + protein + \".txt\"\n",
    "    response = requests.get(url)\n",
    "\n",
    "    if response.status_code == 200:\n",
    "        lines = response.text.split('\\n')\n",
    "\n",
    "        for line in lines:\n",
    "            if line.startswith('SQ'):\n",
    "                parts = line.split()\n",
    "                return int(parts[2])\n",
    "\n",
    "    return None"
   ]
  },
  {
   "cell_type": "code",
   "execution_count": null,
   "id": "d3ccf395-6002-49b3-90da-882ef132d846",
   "metadata": {},
   "outputs": [],
   "source": [
    "def fetch_protein_lengths(protein_list):\n",
    "    protein_lengths = {}\n",
    "\n",
    "    with ThreadPoolExecutor() as executor:\n",
    "        # Submit the queries for protein lengths in parallel\n",
    "        futures = [executor.submit(query_protein_length, protein) for protein in protein_list]\n",
    "\n",
    "        # Retrieve the results as they become available\n",
    "        for idx, future in enumerate(futures):\n",
    "            protein = protein_list[idx]\n",
    "            length = future.result()\n",
    "            protein_lengths[protein] = length\n",
    "\n",
    "    return protein_lengths"
   ]
  },
  {
   "cell_type": "code",
   "execution_count": null,
   "id": "865f9a3f-05bb-427b-9610-a87582776e5c",
   "metadata": {
    "scrolled": true,
    "tags": []
   },
   "outputs": [],
   "source": [
    "protein_lengths2 = fetch_protein_lengths(protein_list)\n",
    "protein_lengths2"
   ]
  },
  {
   "cell_type": "code",
   "execution_count": null,
   "id": "49067982-626b-4208-9f01-f0aaa444bc8b",
   "metadata": {},
   "outputs": [],
   "source": [
    "params['Length'] = params['Length'].fillna(protein_lengths)\n",
    "params"
   ]
  },
  {
   "cell_type": "code",
   "execution_count": null,
   "id": "b8926265-0891-481a-9e03-048f8713b8dc",
   "metadata": {},
   "outputs": [],
   "source": [
    "df = etc.calculate_thermal_params(params)"
   ]
  },
  {
   "cell_type": "code",
   "execution_count": null,
   "id": "02c90eea-2096-4063-a60a-4d18905b2842",
   "metadata": {},
   "outputs": [],
   "source": [
    "mae = cobra.io.load_matlab_model('/home/aditi/Documents/Project/GECKO/userData/myEcoli/models/ecModel.mat')"
   ]
  },
  {
   "cell_type": "code",
   "execution_count": null,
   "id": "94ff5633-a625-4c43-8a61-4f49e94f95ad",
   "metadata": {},
   "outputs": [],
   "source": [
    "cobra.util.solvers"
   ]
  },
  {
   "cell_type": "code",
   "execution_count": null,
   "id": "def007fa-a717-4f87-8274-15bb04627246",
   "metadata": {
    "scrolled": true,
    "tags": []
   },
   "outputs": [],
   "source": [
    "mets = [met.id for met in mae.metabolites]\n",
    "mets"
   ]
  },
  {
   "cell_type": "code",
   "execution_count": null,
   "id": "e7c965b9-7b02-4e06-9855-e011f5f02101",
   "metadata": {},
   "outputs": [],
   "source": [
    "mae.metabolites.get_by_id('pi_c')"
   ]
  },
  {
   "cell_type": "code",
   "execution_count": null,
   "id": "f2e51b0a-8f6b-48e2-951e-5728ec141cc3",
   "metadata": {},
   "outputs": [],
   "source": [
    "mae.summary()"
   ]
  },
  {
   "cell_type": "code",
   "execution_count": null,
   "id": "1d2cf816-5d05-4853-9363-45a464ff2b23",
   "metadata": {},
   "outputs": [],
   "source": [
    "reaction = cobra.Reaction('NGAM')\n",
    "reaction.name = 'NGAM'\n",
    "reaction.lower_bound = 3.2 # This is the default\n",
    "reaction.upper_bound = 3.2  # This is the default"
   ]
  },
  {
   "cell_type": "code",
   "execution_count": null,
   "id": "4fe167f7-b82f-429c-b663-e88eefb81917",
   "metadata": {},
   "outputs": [],
   "source": [
    "reaction"
   ]
  },
  {
   "cell_type": "code",
   "execution_count": null,
   "id": "e8d52748-1ce7-45a7-84e1-0cf4b70d511b",
   "metadata": {},
   "outputs": [],
   "source": [
    "h_c = mae.metabolites.h_c\n",
    "atp_c = mae.metabolites.atp_c\n",
    "adp_c = mae.metabolites.adp_c\n",
    "h2o_c = mae.metabolites.h2o_c\n",
    "pi_c = mae.metabolites.pi_c"
   ]
  },
  {
   "cell_type": "code",
   "execution_count": null,
   "id": "6b8dcc74-01c0-4503-8004-195975f688aa",
   "metadata": {},
   "outputs": [],
   "source": [
    "reaction.add_metabolites({\n",
    "    atp_c: -1.0,\n",
    "    h2o_c: -1.0,\n",
    "    adp_c: 1.0,\n",
    "    h_c: 1.0,\n",
    "    pi_c: 1.0\n",
    "})"
   ]
  },
  {
   "cell_type": "code",
   "execution_count": null,
   "id": "ac5616c6-6735-4f26-bbba-17805b47d1a0",
   "metadata": {},
   "outputs": [],
   "source": [
    "mae.add_reactions([reaction])\n",
    "print(len(mae.reactions))"
   ]
  },
  {
   "cell_type": "code",
   "execution_count": null,
   "id": "d4e1fe25-3354-4330-b826-98e314b17b1a",
   "metadata": {},
   "outputs": [],
   "source": [
    "mae.reactions.NGAM"
   ]
  },
  {
   "cell_type": "code",
   "execution_count": null,
   "id": "f1199d88-8b68-47ea-b59d-31575e72ca5d",
   "metadata": {},
   "outputs": [],
   "source": [
    "dfae_batch = data[0].set_index('Ts').rename_axis(None)"
   ]
  },
  {
   "cell_type": "code",
   "execution_count": null,
   "id": "f2cdc4e3-0c5d-4049-bb32-0ee15152c18f",
   "metadata": {},
   "outputs": [],
   "source": [
    "try: rae = etc.simulate_growth(mae,dfae_batch.index+273.15,df=df,sigma=0.5)\n",
    "except: rae = np.zeros(dfae_batch.shape[0])"
   ]
  },
  {
   "cell_type": "code",
   "execution_count": null,
   "id": "72dafdf5-88aa-4a14-84bb-add0dc5204ac",
   "metadata": {},
   "outputs": [],
   "source": [
    "rae = [0 if x is None else x for x in rae]\n",
    "rae = [0 if x<1e-3 else x for x in rae]\n",
    "print(rae)"
   ]
  },
  {
   "cell_type": "code",
   "execution_count": null,
   "id": "5fce4301-4a7f-41c2-8e41-0233d30387ae",
   "metadata": {
    "scrolled": true,
    "tags": []
   },
   "outputs": [],
   "source": [
    "etc.simulate_growth(mae,dfae_batch.index+273.15,df=df,sigma=0.5)"
   ]
  },
  {
   "cell_type": "code",
   "execution_count": null,
   "id": "1f0a35d6-394e-4e96-b05b-81e222a1b578",
   "metadata": {
    "scrolled": true,
    "tags": []
   },
   "outputs": [],
   "source": [
    "dfae_batch"
   ]
  },
  {
   "cell_type": "code",
   "execution_count": null,
   "id": "d7389345-e9ec-411c-a250-2d02955d3f2f",
   "metadata": {},
   "outputs": [],
   "source": [
    "met = mae.metabolites.prot_pool"
   ]
  },
  {
   "cell_type": "code",
   "execution_count": null,
   "id": "e79a5d63-2e62-41f1-b54f-71e52e51ad1b",
   "metadata": {},
   "outputs": [],
   "source": [
    "T = 273.15+20.153299\n",
    "Tadj=0"
   ]
  },
  {
   "cell_type": "code",
   "execution_count": null,
   "id": "049dbe3c-02b0-4144-9c3c-6b36e018b169",
   "metadata": {
    "scrolled": true,
    "tags": []
   },
   "outputs": [],
   "source": [
    "for rxn in met.reactions:\n",
    "    # this is to ignore reaction 'prot_pool_exchange': --> prot_pool\n",
    "    if len(rxn.metabolites)<2: continue\n",
    "    uniprot_id = rxn.id.split('_')[-1]\n",
    "    cols = ['dHTH', 'dSTS','dCpu','Topt']\n",
    "    [dHTH, dSTS,dCpu,topt]=df.loc[uniprot_id,cols]\n",
    "    fNT = etc.get_fNT(T+Tadj,dHTH,dSTS,dCpu)\n",
    "    if fNT < 1e-32: fNT = 1e-32\n",
    "    new_coeff = rxn.metabolites[met]/fNT\n",
    "    etc.change_rxn_coeff(rxn,met,new_coeff)"
   ]
  },
  {
   "cell_type": "code",
   "execution_count": null,
   "id": "3f828cbc-4757-40d4-a978-5b0c6fcb8654",
   "metadata": {
    "scrolled": true,
    "tags": []
   },
   "outputs": [],
   "source": [
    "map_kcatT(mae,T,df)"
   ]
  },
  {
   "cell_type": "code",
   "execution_count": null,
   "id": "73859ad4-7eb1-4680-b5b4-d78942191ba0",
   "metadata": {},
   "outputs": [],
   "source": [
    "def change_rxn_coeff(rxn,met,new_coeff):\n",
    "    '''\n",
    "    # This is based on the rxn.add_metabolites function. If there the metabolite is already in the reaction,\n",
    "    # new and old coefficients will be added. For example, if the old coeff of metA is 1, use\n",
    "    # rxn.add_metabolites({metA:2}), After adding, the coeff of metA is 1+2 = 3\n",
    "    #\n",
    "    '''\n",
    "\n",
    "    diff_coeff = new_coeff-rxn.metabolites[met]\n",
    "    if np.isnan(diff_coeff):\n",
    "        diff_coeff = -9.999999999999999e+31\n",
    "        \n",
    "    try: rxn.add_metabolites({met:diff_coeff})\n",
    "    except: rxn.add_metabolites({met:diff_coeff}, combine=False)"
   ]
  },
  {
   "cell_type": "code",
   "execution_count": null,
   "id": "2dbbe600-2b4e-4c3b-9d3a-7d8f2d4e5ccc",
   "metadata": {},
   "outputs": [],
   "source": [
    "def calculate_kcatT(T,dHTH,dSTS,dCpu,kcatTopt,dCpt,Topt):\n",
    "    '''\n",
    "    # Using Trainsition state theory to calculate kcat at temperature T.\n",
    "    # dHTH, dSTS: entropy and enthalpy at comergence temperatures. Protein\n",
    "    # unfolding process.\n",
    "    # dCpu, heat capacity change unpon unfolding.\n",
    "    # kcatTopt: kcat values at optimal temperature\n",
    "    # Topt, optimal temperature of the enzyme, in K\n",
    "    # T, temperature, in K\n",
    "    #\n",
    "    '''\n",
    "    # Constants\n",
    "    R = 8.314;\n",
    "    TH = 373.5;\n",
    "    TS = 385;\n",
    "    T0 = 30+273.15;\n",
    "\n",
    "    # Use the equation from solvedHT.m and re-organized\n",
    "    dGuTopt = dHTH +dCpu*(Topt-TH) -Topt*dSTS-Topt*dCpu*np.log(Topt/TS);\n",
    "    dHt = dHTH+dCpu*(Topt-TH)-dCpt*(Topt-T0)-R*Topt-(dHTH+dCpu*(Topt-TH))/(1+np.exp(-dGuTopt/(R*Topt)));\n",
    "\n",
    "    # Calculate kcat at reference Temperautre\n",
    "    kcat0 = kcatTopt/np.exp(np.log(Topt/T0)-(dHt+dCpt*(Topt-T0))/R/Topt+dHt/R/T0+dCpt*np.log(Topt/T0)/R);\n",
    "\n",
    "    # Calculate kcat at given temperature\n",
    "    kcatT = kcat0*np.exp(np.log(T/T0)-(dHt+dCpt*(T-T0))/R/T+dHt/R/T0+dCpt*np.log(T/T0)/R);\n",
    "\n",
    "    return kcatT"
   ]
  },
  {
   "cell_type": "code",
   "execution_count": null,
   "id": "f4f24e1c-9547-45ea-aff7-540a3177f44d",
   "metadata": {},
   "outputs": [],
   "source": [
    "def map_kcatT(model,T,df):\n",
    "    '''\n",
    "    # Apply temperature effect on enzyme kcat.\n",
    "    # based on trainsition state theory\n",
    "    # model, cobra model\n",
    "    # T, temperature, in K\n",
    "    # df, a dataframe containing thermal parameters of enzymes: dHTH, dSTS, dCpu, Topt\n",
    "    # Ensure that Topt is in K. Other parameters are in standard units.\n",
    "    #\n",
    "    # Gang Li, 2019-05-03\n",
    "    #\n",
    "    '''\n",
    "    for met in model.metabolites:\n",
    "\n",
    "        # look for those metabolites: prot_uniprotid\n",
    "        if not met.id.startswith('prot_'): continue\n",
    "\n",
    "        # ingore metabolite: prot_pool\n",
    "        if met.id == 'prot_pool': continue\n",
    "        uniprot_id = met.id.split('_')[1]\n",
    "\n",
    "        # Change kcat value.\n",
    "        # pmet_r_0001 + 1.8518518518518518e-07 prot_P00044 + 1.8518518518518518e-07 prot_P32891 -->\n",
    "        # 2.0 s_0710 + s_1399\n",
    "        #\n",
    "        # 1.8518518518518518e-07 is correponding to 1/kcat\n",
    "        # change the kcat to kcat(T)\n",
    "        # In some casese, this coefficient could be 2/kcat or some other values. This doesn't matter.\n",
    "        #\n",
    "        # a protein could be involved in several reactions\n",
    "        cols = ['dHTH', 'dSTS','dCpu','Topt','dCpt']\n",
    "        [dHTH, dSTS,dCpu,Topt,dCpt]=df.loc[uniprot_id,cols]\n",
    "\n",
    "\n",
    "        for rxn in met.reactions:\n",
    "            if rxn.id.startswith('draw_prot'): continue\n",
    "\n",
    "            # assume that Topt in the original model is measured at Topt\n",
    "            kcatTopt = -1/rxn.metabolites[met]\n",
    "\n",
    "\n",
    "            kcatT = calculate_kcatT(T,dHTH,dSTS,dCpu,kcatTopt,dCpt,Topt)\n",
    "            if np.isnan(kcatT) or kcatT < 1e-32: kcatT = 1e-32\n",
    "            new_coeff = -1/kcatT\n",
    "\n",
    "            change_rxn_coeff(rxn,met,new_coeff)"
   ]
  },
  {
   "cell_type": "code",
   "execution_count": null,
   "id": "d590d57c-d097-4bf8-bff9-2b804276b5ec",
   "metadata": {},
   "outputs": [],
   "source": [
    "kcatT = 1e-32\n",
    "new_coeff = -1/kcatT"
   ]
  },
  {
   "cell_type": "code",
   "execution_count": null,
   "id": "394767d6-e92f-4115-9512-3f10ec4954cf",
   "metadata": {},
   "outputs": [],
   "source": [
    "mae.reactions.ACM6PH"
   ]
  }
 ],
 "metadata": {
  "kernelspec": {
   "display_name": "Python 3 (ipykernel)",
   "language": "python",
   "name": "python3"
  },
  "language_info": {
   "codemirror_mode": {
    "name": "ipython",
    "version": 3
   },
   "file_extension": ".py",
   "mimetype": "text/x-python",
   "name": "python",
   "nbconvert_exporter": "python",
   "pygments_lexer": "ipython3",
   "version": "3.10.6"
  }
 },
 "nbformat": 4,
 "nbformat_minor": 5
}
